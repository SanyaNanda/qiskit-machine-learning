{
 "cells": [
  {
   "cell_type": "markdown",
   "id": "0a99919d",
   "metadata": {},
   "source": [
    "# Neural Network Classifier & Regressor"
   ]
  },
  {
   "cell_type": "markdown",
   "id": "105fdbfc",
   "metadata": {},
   "source": [
    "## Overview\n",
    "\n",
    "This tutorial introduces `NeuralNetworkClassifier` and `NeuralNetworkRegressor` as a solution to `Supervised Machine Learning problems` of classification and regression respectively."
   ]
  },
  {
   "cell_type": "markdown",
   "id": "60669ec5",
   "metadata": {},
   "source": [
    "## Introduction\n",
    "\n",
    "Both `NeuralNetworkClassifier` and `NeuralNetworkRegressor` take a Quantum `NeuralNetwork` as an input and leverage it in a specific context. In both cases, `Quantum Machine Learning` provides a pre-configured variant for convenience, namely the Variational Quantum Classifier (`VQC`) and Variational Quantum Regressor (`VQR`). \n",
    "\n",
    "The tutorial is structured as follows:\n",
    "\n",
    "\n",
    "1. [Classification](#Classification) \n",
    "    * Classification with `NeuralNetworkClassifier` using `OpflowQNN` \n",
    "    * Classification with `NeuralNetworkClassifier` using `CircuitQNN`\n",
    "    * Classification with `Variational Quantum Classifier (VQC)`\n",
    "    \n",
    "    \n",
    "2. [Regression](#Regression)\n",
    "    * Regression with `NeuralNetworkRegressor` using `OpflowQNN` \n",
    "    * Regression with `Variational Quantum Regressor (VQR)`"
   ]
  },
  {
   "cell_type": "markdown",
   "id": "7d34ff84",
   "metadata": {},
   "source": [
    "We will start by setting up some utilities like fixing the algorithmic seed to ensure that the results don't change between runs and the quantum instance to evaluate the network."
   ]
  },
  {
   "cell_type": "code",
   "execution_count": 1,
   "id": "b1bf9d08",
   "metadata": {},
   "outputs": [],
   "source": [
    "from qiskit.utils import QuantumInstance, algorithm_globals\n",
    "from qiskit_aer import Aer\n",
    "\n",
    "# algorithmic seed is set to ensure that the results don't change between runs\n",
    "algorithm_globals.random_seed = 42\n",
    "\n",
    "# define the simulator based quantum instance\n",
    "quantum_instance = QuantumInstance(\n",
    "    Aer.get_backend(\"aer_simulator\"),\n",
    "    shots=1024,\n",
    "    seed_simulator=algorithm_globals.random_seed,\n",
    "    seed_transpiler=algorithm_globals.random_seed,\n",
    ")\n",
    "\n",
    "# The shots to 1024 will determine the number of samples later on"
   ]
  },
  {
   "cell_type": "markdown",
   "id": "088c6258",
   "metadata": {},
   "source": [
    "After specifying the common settings, We will add a callback function called `callback_graph`. This is a helper function which will be used in both classification and regression as the `epoch` common in all machine learning problems. \n",
    "\n",
    "`callback_graph` will be called for each iteration of the optimizer and will be passed two parameters: \n",
    "1. The current weights\n",
    "2. The value of the objective function at those weights \n",
    "\n",
    "For our function, we append the value of the objective function to an array so we can plot iteration versus objective function value and update the graph with each iteration. This graph shows the reducing error with every iteration. However, you can do whatever you want with a callback function as long as it gets the two mentioned parameters passed. "
   ]
  },
  {
   "cell_type": "code",
   "execution_count": 2,
   "id": "d4ec3318",
   "metadata": {},
   "outputs": [],
   "source": [
    "from IPython.display import clear_output\n",
    "\n",
    "# callback function that draws a live plot when the .fit() method is called\n",
    "def callback_graph(weights, obj_func_eval):\n",
    "    clear_output(wait=True)\n",
    "    objective_func_vals.append(obj_func_eval)\n",
    "    plt.title(\"Objective function value against iteration\")\n",
    "    plt.xlabel(\"Iteration\")\n",
    "    plt.ylabel(\"Objective function value\")\n",
    "    plt.plot(range(len(objective_func_vals)), objective_func_vals)\n",
    "    plt.show()"
   ]
  },
  {
   "cell_type": "markdown",
   "id": "b2359f33",
   "metadata": {},
   "source": [
    "## 1. Classification\n",
    "\n",
    "In this section we use `NeuralNetworkClassifier` and `VQC` on Binary Classification. In simplicity, classification is a problem of categorizing a dataset into classes or categories. If there are 2 classes, then it is known as binary classification, and anything more is referred to as multi-class classification. \n",
    "\n",
    "Steps that will be followed in the classification section\n",
    "1. First, we prepare a simple classification dataset to illustrate the following algorithms. \n",
    "2. Next we implement `NeuralNetworkClassifier` to solve the machine learning problem using `TwoLayerQNN` \n",
    "3. Followed by implementation of `NeuralNetworkClassifier` to solve the machine learning problem using `CircuitQNN`.\n",
    "4. Afterwards we implement `VQC` to solve the same problem. `VQC` is essentially a wrapper class that inherits from `NeuralNetworkClassifier` and pre configures a parameterized circuit. \n",
    "5. As a final bonus, we solve multi-class classification problem using `VQC`."
   ]
  },
  {
   "cell_type": "markdown",
   "id": "aaccefd1",
   "metadata": {},
   "source": [
    "### 1.1. Dataset preparation for classification"
   ]
  },
  {
   "cell_type": "code",
   "execution_count": 3,
   "id": "1c23940f",
   "metadata": {
    "tags": [
     "nbsphinx-thumbnail"
    ]
   },
   "outputs": [
    {
     "data": {
      "image/png": "[encoded data removed]",
      "text/plain": [
       "<Figure size 640x480 with 1 Axes>"
      ]
     },
     "metadata": {},
     "output_type": "display_data"
    }
   ],
   "source": [
    "import numpy as np\n",
    "import matplotlib.pyplot as plt\n",
    "\n",
    "# Step 1: Generation of input dataset for classification\n",
    "\n",
    "num_inputs = 2\n",
    "num_samples = 20\n",
    "\n",
    "\n",
    "# Step 1.1: Generating num_sample (20) pairs (num_input is 2) of random numbers as X\n",
    "\n",
    "X = algorithm_globals.random.random(\n",
    "    [num_samples, num_inputs]\n",
    ")  # All random values are in range (0,1)\n",
    "X = 2 * X - 1  # This changes the range of random values from (0,1) to (-1,+1)\n",
    "\n",
    "\n",
    "# Step 1.2: Generating y from x\n",
    "# np.sum(X, axis=1) >= 0 This sums each row and returns True if sum >= 0, else False is returned\n",
    "\n",
    "y01 = 1 * (np.sum(X, axis=1) >= 0)  # Here, {True or False} is converted to {0 or 1}\n",
    "y = 2 * y01 - 1  # Here, {0 or 1} is converted to {-1 or +1}\n",
    "\n",
    "\n",
    "# Step 1.3: One hot encoding of y\n",
    "\n",
    "# Generating num_sample (20) pairs (2) of zeros\n",
    "y_one_hot = np.zeros((num_samples, 2))\n",
    "\n",
    "# Implement One hot encoding based on y01 values i.e {True or False}\n",
    "for i in range(num_samples):\n",
    "    y_one_hot[i, y01[i]] = 1\n",
    "\n",
    "\n",
    "# Step 1.4: Plotting the generated dataset as scatterplot\n",
    "for x, y_target in zip(X, y):\n",
    "    if y_target == 1:\n",
    "        # class +1\n",
    "        plt.plot(x[0], x[1], \"bo\")\n",
    "    else:\n",
    "        # class -1\n",
    "        plt.plot(x[0], x[1], \"go\")\n",
    "# line of classification\n",
    "plt.plot([-1, 1], [1, -1], \"--\", color=\"black\")\n",
    "plt.show()"
   ]
  },
  {
   "cell_type": "markdown",
   "id": "98479790",
   "metadata": {},
   "source": [
    "### 1.2. Classification with `NeuralNetworkClassifier` using `OpflowQNN`\n",
    "\n",
    "Here, we demonstrate how an `OpflowQNN` can be used for classification within a `NeuralNetworkClassifier`. In this context, the `OpflowQNN` is expected to return one-dimensional output in $[-1, +1]$. This only works for binary classification, by assigning the two classes to $\\{-1, +1\\}$. \n",
    "\n",
    "For convenience, we use the `TwoLayerQNN`, which is a special type of `OpflowQNN` defined via a feature map and an ansatz. `TwoLayerQNN` has a default feature map and ansatz which can be used directly. More on quantum neural networks can be learned from [this](https://qiskit.org/documentation/machine-learning/tutorials/01_neural_networks.html) tutorial."
   ]
  },
  {
   "cell_type": "code",
   "execution_count": 4,
   "id": "a153e723",
   "metadata": {},
   "outputs": [],
   "source": [
    "# required imports\n",
    "from qiskit_machine_learning.neural_networks import TwoLayerQNN\n",
    "from qiskit_machine_learning.algorithms.classifiers import NeuralNetworkClassifier\n",
    "from qiskit.algorithms.optimizers import COBYLA"
   ]
  },
  {
   "cell_type": "markdown",
   "id": "78edf0d8",
   "metadata": {},
   "source": [
    "#### 1.2.1 Define the Model"
   ]
  },
  {
   "cell_type": "markdown",
   "id": "a75c8414",
   "metadata": {},
   "source": [
    "`NeuralNetworkClassifier` is a Quantum neural network classifier which implements Scikit-Learn compatible methods for classification. It has many parameters which can be referenced [here](https://qiskit.org/documentation/machine-learning/stubs/qiskit_machine_learning.algorithms.NeuralNetworkClassifier.html), in this tutorial we will be creating a simple classifier by using the following parameters:\n",
    "1. neural_network: Specify the quantum neural network being used\n",
    "2. optimizer: It is used for training the ML model. [COBYLA](https://qiskit.org/documentation/stubs/qiskit.algorithms.optimizers.COBYLA.html) is used over here\n",
    "3. callback: It tracks how well the optimization is progressing. In this case, we use the `callback_graph` function defined earlier."
   ]
  },
  {
   "cell_type": "code",
   "execution_count": 5,
   "id": "ecdf327f",
   "metadata": {},
   "outputs": [],
   "source": [
    "# Step 1: Define Model\n",
    "\n",
    "# construct QNN\n",
    "opflow_qnn = TwoLayerQNN(num_inputs, quantum_instance=quantum_instance)\n",
    "\n",
    "# construct neural network classifier\n",
    "opflow_classifier = NeuralNetworkClassifier(\n",
    "    # Specify the quantum neural network\n",
    "    opflow_qnn,\n",
    "    # COBYLA is an optimizer that iterates 'maxiter' (epoch) times that is set to 60\n",
    "    optimizer=COBYLA(maxiter=60),\n",
    "    # Invoked at each iteration and tracks how well the optimization is performing\n",
    "    callback=callback_graph,\n",
    ")"
   ]
  },
  {
   "cell_type": "code",
   "execution_count": 6,
   "id": "9521c183",
   "metadata": {},
   "outputs": [
    {
     "data": {
      "text/plain": [
       "array([[0.1640625]])"
      ]
     },
     "execution_count": 6,
     "metadata": {},
     "output_type": "execute_result"
    }
   ],
   "source": [
    "# QNN maps inputs to [-1, +1]\n",
    "opflow_qnn.forward(X[0, :], algorithm_globals.random.random(opflow_qnn.num_weights))"
   ]
  },
  {
   "cell_type": "markdown",
   "id": "1e119772",
   "metadata": {},
   "source": [
    "#### 1.2.2 Fit the Model"
   ]
  },
  {
   "cell_type": "code",
   "execution_count": 7,
   "id": "8a202988",
   "metadata": {},
   "outputs": [
    {
     "data": {
      "image/png": "[encoded data removed]",
      "text/plain": [
       "<Figure size 1200x600 with 1 Axes>"
      ]
     },
     "metadata": {},
     "output_type": "display_data"
    }
   ],
   "source": [
    "# Step 2: Fit Model\n",
    "\n",
    "# create empty array for callback to store evaluations of the objective function after each iteration\n",
    "objective_func_vals = []\n",
    "\n",
    "# plot the given figsize\n",
    "plt.rcParams[\"figure.figsize\"] = (12, 6)\n",
    "\n",
    "# fit classifier to data\n",
    "opflow_classifier.fit(X, y)\n",
    "\n",
    "# return to default figsize\n",
    "plt.rcParams[\"figure.figsize\"] = (6, 4)"
   ]
  },
  {
   "cell_type": "markdown",
   "id": "a382c3bd",
   "metadata": {},
   "source": [
    "#### 1.2.3 Predict using Model"
   ]
  },
  {
   "cell_type": "code",
   "execution_count": 8,
   "id": "b83aba7e",
   "metadata": {},
   "outputs": [
    {
     "data": {
      "image/png": "[encoded data removed]",
      "text/plain": [
       "<Figure size 600x400 with 1 Axes>"
      ]
     },
     "metadata": {},
     "output_type": "display_data"
    }
   ],
   "source": [
    "# Step 3: Predict using Model\n",
    "\n",
    "# evaluate data points using predict\n",
    "y_predict = opflow_classifier.predict(X)\n",
    "\n",
    "# plot result\n",
    "for x, y_target, y_p in zip(X, y, y_predict):\n",
    "    if y_target == 1:\n",
    "        # plots class 1 as blue datapoints\n",
    "        plt.plot(x[0], x[1], \"bo\")\n",
    "    else:\n",
    "        # plots class -1 as green datapoints\n",
    "        plt.plot(x[0], x[1], \"go\")\n",
    "    if y_target != y_p:\n",
    "        # encircle wrongly classified points with red\n",
    "        plt.scatter(x[0], x[1], s=200, facecolors=\"none\", edgecolors=\"r\", linewidths=2)\n",
    "# plot dotted black line as the classification line\n",
    "plt.plot([-1, 1], [1, -1], \"--\", color=\"black\")\n",
    "plt.show()"
   ]
  },
  {
   "cell_type": "markdown",
   "id": "a7317dd1",
   "metadata": {},
   "source": [
    "#### 1.2.4 Evaluate Accuracy score"
   ]
  },
  {
   "cell_type": "code",
   "execution_count": 9,
   "id": "3f6749d1",
   "metadata": {},
   "outputs": [
    {
     "name": "stdout",
     "output_type": "stream",
     "text": [
      "The accuracy score of NeuralNetworkClassifier (TwoLayerQNN) is 0.8\n"
     ]
    }
   ],
   "source": [
    "# Step 4: Evaluate Accuracy\n",
    "\n",
    "# score of classifier\n",
    "opflow_classifier_score = opflow_classifier.score(X, y)\n",
    "print(\n",
    "    \"The accuracy score of NeuralNetworkClassifier (TwoLayerQNN) is {}\".format(\n",
    "        opflow_classifier_score\n",
    "    )\n",
    ")"
   ]
  },
  {
   "cell_type": "markdown",
   "id": "e9d38b3a",
   "metadata": {},
   "source": [
    "Now, when the model is trained, we can explore the weights of the neural network. Please note, in the case of `TwoLayerQNN` the number of weights is defined by ansatz. And when no ansatz is passed, it defaults internally to using a `RealAmplitudes` quantum circuit of `reps=3`. More on TwoLayerQNN can be found in [this](https://qiskit.org/documentation/machine-learning/tutorials/01_neural_networks.html) tutorial."
   ]
  },
  {
   "cell_type": "code",
   "execution_count": 10,
   "id": "8732d519",
   "metadata": {},
   "outputs": [
    {
     "ename": "AttributeError",
     "evalue": "'NeuralNetworkClassifier' object has no attribute 'weights'",
     "output_type": "error",
     "traceback": [
      "\u001b[0;31m---------------------------------------------------------------------------\u001b[0m",
      "\u001b[0;31mAttributeError\u001b[0m                            Traceback (most recent call last)",
      "Cell \u001b[0;32mIn [10], line 1\u001b[0m\n\u001b[0;32m----> 1\u001b[0m \u001b[43mopflow_classifier\u001b[49m\u001b[38;5;241;43m.\u001b[39;49m\u001b[43mweights\u001b[49m\n",
      "\u001b[0;31mAttributeError\u001b[0m: 'NeuralNetworkClassifier' object has no attribute 'weights'"
     ]
    }
   ],
   "source": [
    "opflow_classifier.weights"
   ]
  },
  {
   "cell_type": "markdown",
   "id": "35ad63d9",
   "metadata": {},
   "source": [
    "### 1.3. Classification with `NeuralNetworkClassifier` using `CircuitQNN`\n",
    "\n",
    "Next we will look at how a `CircuitQNN` can be used for classification within a `NeuralNetworkClassifier`. In this context, the `CircuitQNN` is expected to return $d$-dimensional probability vector as output, where $d$ denotes the number of classes. Sampling from a `QuantumCircuit` automatically results in a probability distribution and we just need to define a mapping from the measured bitstrings to the different classes. For binary classification we use the parity mapping."
   ]
  },
  {
   "cell_type": "code",
   "execution_count": null,
   "id": "58e1da89",
   "metadata": {},
   "outputs": [],
   "source": [
    "# required imports\n",
    "from qiskit_machine_learning.neural_networks import CircuitQNN\n",
    "from qiskit.circuit.library import RealAmplitudes, ZZFeatureMap\n",
    "from qiskit import QuantumCircuit"
   ]
  },
  {
   "cell_type": "markdown",
   "id": "7a65859c",
   "metadata": {},
   "source": [
    "#### 1.3.1 Define the Model\n",
    "For defining the model, we need to follow these steps:\n",
    "1. Construct a parameterized quantum circuit\n",
    "2. Use the quantum circuit to define the `CircuitQNN`\n",
    "3. Use `CircuitQNN` in `NeuralNetworkClassifer`\n",
    "\n",
    "To understand step 1 and 2 better, please refer the tutorial on QuantumNeuralNetworks [here](https://qiskit.org/documentation/machine-learning/tutorials/01_neural_networks.html)"
   ]
  },
  {
   "cell_type": "code",
   "execution_count": null,
   "id": "2653155c",
   "metadata": {},
   "outputs": [],
   "source": [
    "# Step 1: Construct a parameterized quantum circuit\n",
    "\n",
    "# construct feature map\n",
    "feature_map = ZZFeatureMap(num_inputs)  # num_inputs = 2\n",
    "\n",
    "# construct ansatz\n",
    "ansatz = RealAmplitudes(num_inputs, reps=1)\n",
    "\n",
    "# construct a quantum circuit\n",
    "qc = QuantumCircuit(num_inputs)\n",
    "qc.append(feature_map, range(num_inputs))\n",
    "qc.append(ansatz, range(num_inputs))\n",
    "qc.decompose().draw(output=\"mpl\")"
   ]
  },
  {
   "cell_type": "code",
   "execution_count": null,
   "id": "cd6d9a1e",
   "metadata": {},
   "outputs": [],
   "source": [
    "# parity maps bitstrings to 0 or 1 ( will be used as the interpreter in CircuitQNN)\n",
    "# case 1: when the count of 1 in a bitstring is even, we get 0\n",
    "# case 2: when the count of 1 in a bitstring is odd, we get 1\n",
    "def parity(x):\n",
    "    return \"{:b}\".format(x).count(\"1\") % 2\n",
    "\n",
    "\n",
    "# output shape\n",
    "# it corresponds to the number of classes, possible outcomes of the (parity) mapping\n",
    "# which is 2 in this case of binary classification.\n",
    "output_shape = 2"
   ]
  },
  {
   "cell_type": "code",
   "execution_count": null,
   "id": "bf789049",
   "metadata": {},
   "outputs": [],
   "source": [
    "# Step 2: Construct CircuitQNN\n",
    "\n",
    "circuit_qnn = CircuitQNN(\n",
    "    circuit=qc,\n",
    "    input_params=feature_map.parameters,\n",
    "    weight_params=ansatz.parameters,\n",
    "    interpret=parity,\n",
    "    output_shape=output_shape,\n",
    "    quantum_instance=quantum_instance,\n",
    ")"
   ]
  },
  {
   "cell_type": "code",
   "execution_count": null,
   "id": "724c0931",
   "metadata": {},
   "outputs": [],
   "source": [
    "# Step 3: Construct Neural Network Classifier\n",
    "\n",
    "circuit_classifier = NeuralNetworkClassifier(\n",
    "    neural_network=circuit_qnn, optimizer=COBYLA(maxiter=30), callback=callback_graph\n",
    ")"
   ]
  },
  {
   "cell_type": "markdown",
   "id": "86237363",
   "metadata": {},
   "source": [
    "#### 1.3.2 Fit the model"
   ]
  },
  {
   "cell_type": "code",
   "execution_count": null,
   "id": "3545fed1",
   "metadata": {},
   "outputs": [],
   "source": [
    "# Fit the Model\n",
    "\n",
    "# create empty array for callback to store evaluations of the objective function\n",
    "objective_func_vals = []\n",
    "\n",
    "# plot the given figsize\n",
    "plt.rcParams[\"figure.figsize\"] = (12, 6)\n",
    "\n",
    "# fit classifier to data\n",
    "circuit_classifier.fit(X, y01)\n",
    "\n",
    "# return to default figsize\n",
    "plt.rcParams[\"figure.figsize\"] = (6, 4)"
   ]
  },
  {
   "cell_type": "markdown",
   "id": "c4ec770b",
   "metadata": {},
   "source": [
    "#### 1.3.3 Predict using the model"
   ]
  },
  {
   "cell_type": "code",
   "execution_count": null,
   "id": "ad69549d",
   "metadata": {},
   "outputs": [],
   "source": [
    "# Predit using the model\n",
    "\n",
    "# evaluate data points\n",
    "y_predict = circuit_classifier.predict(X)\n",
    "\n",
    "# plot result\n",
    "for x, y_target, y_p in zip(X, y01, y_predict):\n",
    "    if y_target == 1:\n",
    "        # plots class 1 as blue datapoints\n",
    "        plt.plot(x[0], x[1], \"bo\")\n",
    "    else:\n",
    "        # plots class -1 as green datapoints\n",
    "        plt.plot(x[0], x[1], \"go\")\n",
    "    if y_target != y_p:\n",
    "        # encircle the wrongly classified points with red\n",
    "        plt.scatter(x[0], x[1], s=200, facecolors=\"none\", edgecolors=\"r\", linewidths=2)\n",
    "# plot dotted black line as the classification line\n",
    "plt.plot([-1, 1], [1, -1], \"--\", color=\"black\")\n",
    "plt.show()"
   ]
  },
  {
   "cell_type": "markdown",
   "id": "77c5438e",
   "metadata": {},
   "source": [
    "#### 1.3.4 Evaluate Accuracy"
   ]
  },
  {
   "cell_type": "code",
   "execution_count": null,
   "id": "8f0be32a",
   "metadata": {},
   "outputs": [],
   "source": [
    "# Evaluate Accuracy Score\n",
    "\n",
    "# score of classifier\n",
    "circuit_classifier_score = circuit_classifier.score(X, y01)\n",
    "print(\n",
    "    \"The accuracy score of NeuralNetworkClassifier (CircuitQNN) is {}\".format(\n",
    "        circuit_classifier_score\n",
    "    )\n",
    ")"
   ]
  },
  {
   "cell_type": "markdown",
   "id": "ce806c6f",
   "metadata": {},
   "source": [
    "Again, once the model is trained we can take a look at the weights. As we set `reps=1` explicitly in our ansatz, we can see less parameters than in the previous model."
   ]
  },
  {
   "cell_type": "code",
   "execution_count": null,
   "id": "6058dcbe",
   "metadata": {},
   "outputs": [],
   "source": [
    "circuit_classifier.weights"
   ]
  },
  {
   "cell_type": "markdown",
   "id": "57b29bd9",
   "metadata": {},
   "source": [
    "### 1.4. Classification using Variational Quantum Classifier (`VQC`)\n",
    "\n",
    "The `VQC` is a special variant of the `NeuralNetworkClassifier` with a `CircuitQNN`. It applies a parity mapping (or extensions to multiple classes) to map from the bitstring to the classification, which results in a probability vector, which is interpreted as a one-hot encoded result. By default, it applies this the `CrossEntropyLoss` function that expects labels given in one-hot encoded format and will return predictions in that format too."
   ]
  },
  {
   "cell_type": "code",
   "execution_count": null,
   "id": "a31fa645",
   "metadata": {},
   "outputs": [],
   "source": [
    "from qiskit_machine_learning.algorithms.classifiers import VQC"
   ]
  },
  {
   "cell_type": "markdown",
   "id": "b9ce0810",
   "metadata": {},
   "source": [
    "`Variational quantum classifier`\n",
    "\n",
    "The variational quantum classifier (VQC) is a variational algorithm where the measured expectation value is interpreted as the output of a classifier. It is built upon the `NeuralNetworkClassifier`\n",
    "\n",
    "Here, are the arguments taken by `VQC`:\n",
    "1. num_qubits: The number of qubits\n",
    "2. feature_map: The (parametrized) circuit to be used as a feature map\n",
    "3. ansatz: The (parametrized) circuit to be used as an ansatz\n",
    "4. loss: A target loss function to be used in training, default is cross_entropy\n",
    "5. optimizer: An instance of an optimizer to be used in training, [COBYLA](https://qiskit.org/documentation/stubs/qiskit.algorithms.optimizers.COBYLA.html) is used over here\n",
    "6. quantum_instance: The quantum instance to execute circuits on\n",
    "7. callback: tracks how well optimization process is going on, callback_graph defined earlier is used here"
   ]
  },
  {
   "cell_type": "code",
   "execution_count": null,
   "id": "34f3d1c3",
   "metadata": {},
   "outputs": [],
   "source": [
    "# Step 1: Construct the Variational Quantum Classifier\n",
    "\n",
    "# construct feature map, ansatz, and optimizer\n",
    "feature_map = ZZFeatureMap(num_inputs)\n",
    "ansatz = RealAmplitudes(num_inputs, reps=1)\n",
    "\n",
    "# construct variational quantum classifier\n",
    "vqc = VQC(\n",
    "    feature_map=feature_map,\n",
    "    ansatz=ansatz,\n",
    "    loss=\"cross_entropy\",\n",
    "    optimizer=COBYLA(maxiter=30),\n",
    "    quantum_instance=quantum_instance,\n",
    "    callback=callback_graph,\n",
    ")"
   ]
  },
  {
   "cell_type": "code",
   "execution_count": null,
   "id": "cd5a69db",
   "metadata": {},
   "outputs": [],
   "source": [
    "# Step 2: Fit the Model\n",
    "\n",
    "# create empty array for callback to store evaluations of the objective function\n",
    "objective_func_vals = []\n",
    "\n",
    "# plot the given figsize\n",
    "plt.rcParams[\"figure.figsize\"] = (12, 6)\n",
    "\n",
    "# fit classifier to data\n",
    "vqc.fit(X, y_one_hot)\n",
    "\n",
    "# return to default figsize\n",
    "plt.rcParams[\"figure.figsize\"] = (6, 4)"
   ]
  },
  {
   "cell_type": "code",
   "execution_count": null,
   "id": "94ecbdbe",
   "metadata": {},
   "outputs": [],
   "source": [
    "# Step 3: Predict using Model\n",
    "\n",
    "# evaluate data points\n",
    "y_predict = vqc.predict(X)\n",
    "\n",
    "# plot result\n",
    "for x, y_target, y_p in zip(X, y_one_hot, y_predict):\n",
    "    if y_target[0] == 1:\n",
    "        # plots class 1 as blue datapoints\n",
    "        plt.plot(x[0], x[1], \"bo\")\n",
    "    else:\n",
    "        # plots class -1 as blue datapoints\n",
    "        plt.plot(x[0], x[1], \"go\")\n",
    "    if not np.all(y_target == y_p):\n",
    "        # encircle the wrongly classified points with red\n",
    "        plt.scatter(x[0], x[1], s=200, facecolors=\"none\", edgecolors=\"r\", linewidths=2)\n",
    "# plot dotted black line as the classification line\n",
    "plt.plot([-1, 1], [1, -1], \"--\", color=\"black\")\n",
    "plt.show()"
   ]
  },
  {
   "cell_type": "code",
   "execution_count": null,
   "id": "529358fa",
   "metadata": {},
   "outputs": [],
   "source": [
    "# Step 4: Evaluate Accuracy Score\n",
    "\n",
    "# score of classifier\n",
    "vqc_classifier_score = vqc.score(X, y_one_hot)\n",
    "print(\"The accuracy score of VQC is {}\".format(vqc_classifier_score))"
   ]
  },
  {
   "cell_type": "markdown",
   "id": "87ca8752",
   "metadata": {},
   "source": [
    "### 1.5. Multi-class classification with VQC\n",
    "\n",
    "In this section we implement VQC to solve Multi-class classification. This example shows how to tackle more interesting problems in machine learning.\n",
    "\n",
    "First, we generate an artificial dataset that contains samples of three classes. Of course, for sake of short training time we prepare a small dataset. We use `make_classification` from SciKit-Learn to generate a dataset. There are 10 samples in the dataset with 2 features, that means we can still have a nice plot of the dataset, as well as no redundant features (these are features are generated as a combinations of the other features). \n",
    "\n",
    "Also, we have 3 different classes in the dataset, points of each class are closest to the centroid of that class compared to others. We set class separation to `2.0`, a slight increase from the default value of `1.0` to ease the classification problem.\n",
    "\n",
    "Once the dataset is generated we scale the features into the range `[0, 1]`."
   ]
  },
  {
   "cell_type": "code",
   "execution_count": null,
   "id": "bee2485d",
   "metadata": {},
   "outputs": [],
   "source": [
    "# Preparing the Dataset\n",
    "\n",
    "from sklearn.datasets import make_classification\n",
    "from sklearn.preprocessing import MinMaxScaler\n",
    "\n",
    "# All settings are according to the explanation above\n",
    "X, y = make_classification(\n",
    "    n_samples=10,\n",
    "    n_features=2,\n",
    "    n_classes=3,\n",
    "    n_redundant=0,\n",
    "    n_clusters_per_class=1,\n",
    "    class_sep=2.0,\n",
    "    random_state=algorithm_globals.random_seed,\n",
    ")\n",
    "X = MinMaxScaler().fit_transform(X)\n",
    "\n",
    "# Let's see how our dataset looks like.\n",
    "plt.scatter(X[:, 0], X[:, 1], c=y)"
   ]
  },
  {
   "cell_type": "code",
   "execution_count": null,
   "id": "5cef3ee6",
   "metadata": {},
   "outputs": [],
   "source": [
    "# We can transform labels and make them categorical\n",
    "y_cat = np.empty(y.shape, dtype=str)\n",
    "y_cat[y == 0] = \"A\"\n",
    "y_cat[y == 1] = \"B\"\n",
    "y_cat[y == 2] = \"C\"\n",
    "print(y_cat)"
   ]
  },
  {
   "cell_type": "markdown",
   "id": "5e5cc68b",
   "metadata": {},
   "source": [
    "We create an instance of `VQC` similar to the previous example, but in this case we pass a minimal set of parameters. Instead of feature map and ansatz we pass just the number of qubits that is equal to the number of features in the dataset, an optimizer with a low number of iteration to reduce training time, a quantum instance, and a callback to observe progress. The feature map and ansatz get the default values."
   ]
  },
  {
   "cell_type": "code",
   "execution_count": null,
   "id": "63de3f9c",
   "metadata": {},
   "outputs": [],
   "source": [
    "# Construct VQC\n",
    "\n",
    "vqc = VQC(\n",
    "    num_qubits=2,\n",
    "    optimizer=COBYLA(maxiter=30),\n",
    "    quantum_instance=quantum_instance,\n",
    "    callback=callback_graph,\n",
    ")"
   ]
  },
  {
   "cell_type": "markdown",
   "id": "af064430",
   "metadata": {},
   "source": [
    "Start the training process in the same way as in previous examples."
   ]
  },
  {
   "cell_type": "code",
   "execution_count": null,
   "id": "96637eff",
   "metadata": {},
   "outputs": [],
   "source": [
    "# Fit the model\n",
    "\n",
    "# create empty array for callback to store evaluations of the objective function\n",
    "objective_func_vals = []\n",
    "\n",
    "# plot the given figsize\n",
    "plt.rcParams[\"figure.figsize\"] = (12, 6)\n",
    "\n",
    "# fit classifier to data\n",
    "vqc.fit(X, y_cat)\n",
    "\n",
    "# return to default figsize\n",
    "plt.rcParams[\"figure.figsize\"] = (6, 4)"
   ]
  },
  {
   "cell_type": "markdown",
   "id": "399d079a",
   "metadata": {},
   "source": [
    "Let see the output of the `predict` method and compare the output with the ground truth."
   ]
  },
  {
   "cell_type": "code",
   "execution_count": null,
   "id": "d8210bb2",
   "metadata": {},
   "outputs": [],
   "source": [
    "# Predict using the model\n",
    "\n",
    "predict = vqc.predict(X)\n",
    "print(f\"Predicted labels: {predict}\")\n",
    "print(f\"Ground truth:     {y_cat}\")"
   ]
  },
  {
   "cell_type": "markdown",
   "id": "5b27afe5",
   "metadata": {},
   "source": [
    "Despite we had the low number of iterations, we achieved quite a good score. "
   ]
  },
  {
   "cell_type": "code",
   "execution_count": null,
   "id": "8b5954a9",
   "metadata": {},
   "outputs": [],
   "source": [
    "# Evaluate Accuracy\n",
    "\n",
    "# score classifier\n",
    "vqc_multiclass_classifier_score = vqc.score(X, y_cat)\n",
    "print(\"The accuracy score of VQC is {}\".format(vqc_multiclass_classifier_score))"
   ]
  },
  {
   "cell_type": "markdown",
   "id": "f9bc5c3e",
   "metadata": {},
   "source": [
    "## 2. Regression\n",
    "\n",
    "In this section we use `NeuralNetworkRegressor` and `VQR` on linear regression. In simplicity, regression estimates the relationship between an independent variable and a dependent variable using a straight line of best fit.\n",
    "\n",
    "Steps that will be followed in the regression section\n",
    "1. First, we prepare a simple regression dataset to illustrate the following algorithms. \n",
    "2. Next we implement `NeuralNetworkRegressor` to solve the machine learning problem using `OpflowQNN` \n",
    "4. Afterwards we implement `VQR` to solve the same problem. `VQR` is essentially a wrapper class that inherits from `NeuralNetworkRegressor` and pre configures a parameterized circuit. "
   ]
  },
  {
   "cell_type": "markdown",
   "id": "4d94a1c5",
   "metadata": {},
   "source": [
    "### 2.1. Dataset generation for regression"
   ]
  },
  {
   "cell_type": "code",
   "execution_count": null,
   "id": "09d5bfdf",
   "metadata": {},
   "outputs": [],
   "source": [
    "# Generating a sinusoidal dataset\n",
    "\n",
    "num_samples = 20\n",
    "eps = 0.2\n",
    "lb, ub = -np.pi, np.pi\n",
    "X_ = np.linspace(lb, ub, num=50).reshape(50, 1)\n",
    "f = lambda x: np.sin(x)\n",
    "\n",
    "X = (ub - lb) * algorithm_globals.random.random([num_samples, 1]) + lb\n",
    "y = f(X[:, 0]) + eps * (2 * algorithm_globals.random.random(num_samples) - 1)\n",
    "\n",
    "plt.plot(X_, f(X_), \"r--\")\n",
    "plt.plot(X, y, \"bo\")\n",
    "plt.show()"
   ]
  },
  {
   "cell_type": "markdown",
   "id": "bddbc9c0",
   "metadata": {},
   "source": [
    "### 2.2. Regression with `NeuralNetworkRegressor` using `OpflowQNN` \n",
    "\n",
    "Here we restrict to regression with an `OpflowQNN` that returns values in $[-1, +1]$. More complex and also multi-dimensional models could be constructed, also based on `CircuitQNN` but that exceeds the scope of this tutorial."
   ]
  },
  {
   "cell_type": "code",
   "execution_count": null,
   "id": "4c4c8ba3",
   "metadata": {},
   "outputs": [],
   "source": [
    "from qiskit.circuit import Parameter\n",
    "from qiskit_machine_learning.algorithms.regressors import NeuralNetworkRegressor, VQR\n",
    "from qiskit.algorithms.optimizers import L_BFGS_B"
   ]
  },
  {
   "cell_type": "markdown",
   "id": "2ed9885a",
   "metadata": {},
   "source": [
    "Steps to implement for solving regression using `NeuralNetworkRegressor` with `TwoLayerQNN`\n",
    "1. Construct TwoLayerQNN using simple feature map and ansatz\n",
    "2. Construct `NeuralNetworkRegressor`\n",
    "3. Fit the model\n",
    "4. Predict using the model\n",
    "5. Evaluate accuracy"
   ]
  },
  {
   "cell_type": "markdown",
   "id": "6d49683c",
   "metadata": {},
   "source": [
    "#### 2.2.1 Construct TwoLayerQNN"
   ]
  },
  {
   "cell_type": "code",
   "execution_count": null,
   "id": "d7e8efd7",
   "metadata": {},
   "outputs": [],
   "source": [
    "# Step 1.1: Construct simple feature map, with Ry gate rotating at 'x' degree\n",
    "param_x = Parameter(\"x\")\n",
    "feature_map = QuantumCircuit(1, name=\"fm\")\n",
    "feature_map.ry(param_x, 0)\n",
    "feature_map.draw(output=\"mpl\")"
   ]
  },
  {
   "cell_type": "code",
   "execution_count": null,
   "id": "4366e534",
   "metadata": {},
   "outputs": [],
   "source": [
    "# Step 1.2: Construct simple ansatz, with Ry gate rotating at 'y' degree\n",
    "param_y = Parameter(\"y\")\n",
    "ansatz = QuantumCircuit(1, name=\"vf\")\n",
    "ansatz.ry(param_y, 0)\n",
    "ansatz.draw(output=\"mpl\")"
   ]
  },
  {
   "cell_type": "code",
   "execution_count": null,
   "id": "cae24f65",
   "metadata": {},
   "outputs": [],
   "source": [
    "# Step 1.3: Construct QNN\n",
    "regression_opflow_qnn = TwoLayerQNN(\n",
    "    num_qubits=1, feature_map=feature_map, ansatz=ansatz, quantum_instance=quantum_instance\n",
    ")"
   ]
  },
  {
   "cell_type": "markdown",
   "id": "87babc71",
   "metadata": {},
   "source": [
    "#### 2.2.2 Construct NeuralNetworkRegressor\n",
    "\n",
    "NeuralNetworkRegressor is a quantum neural network regressor which implements Scikit-Learn compatible methods for regression using an optimizer which is [SLSQP](https://qiskit.org/documentation/stubs/qiskit.algorithms.optimizers.SLSQP.html) by default but is set to [L_BFGS_B](https://qiskit.org/documentation/stubs/qiskit.algorithms.optimizers.L_BFGS_B.html) in the following example."
   ]
  },
  {
   "cell_type": "code",
   "execution_count": null,
   "id": "7814caac",
   "metadata": {},
   "outputs": [],
   "source": [
    "# Step 2: Construct the regressor from the neural network\n",
    "\n",
    "regressor = NeuralNetworkRegressor(\n",
    "    neural_network=regression_opflow_qnn,  # Specify quantum neural network\n",
    "    loss=\"squared_error\",  # specify loss function\n",
    "    optimizer=L_BFGS_B(maxiter=5),  # specify optimizer\n",
    "    callback=callback_graph,  # Specify function for viewing progress of model at each iteration\n",
    ")"
   ]
  },
  {
   "cell_type": "markdown",
   "id": "d9cdafad",
   "metadata": {},
   "source": [
    "#### 2.2.3 Fit the model"
   ]
  },
  {
   "cell_type": "code",
   "execution_count": null,
   "id": "7708c017",
   "metadata": {},
   "outputs": [],
   "source": [
    "# Step 3: Fit the model\n",
    "\n",
    "# create empty array for callback to store evaluations of the objective function\n",
    "objective_func_vals = []\n",
    "\n",
    "# plot the given figsize\n",
    "plt.rcParams[\"figure.figsize\"] = (12, 6)\n",
    "\n",
    "# fit to data\n",
    "regressor.fit(X, y)\n",
    "\n",
    "# return to default figsize\n",
    "plt.rcParams[\"figure.figsize\"] = (6, 4)"
   ]
  },
  {
   "cell_type": "markdown",
   "id": "be7fd130",
   "metadata": {},
   "source": [
    "#### 2.2.4 Predict using the model"
   ]
  },
  {
   "cell_type": "code",
   "execution_count": null,
   "id": "3d81f0e7",
   "metadata": {},
   "outputs": [],
   "source": [
    "# Step 4: Predict using the model\n",
    "\n",
    "# plot target function\n",
    "plt.plot(X_, f(X_), \"r--\")\n",
    "\n",
    "# plot data\n",
    "plt.plot(X, y, \"bo\")\n",
    "\n",
    "# plot fitted line\n",
    "y_ = regressor.predict(X_)\n",
    "plt.plot(X_, y_, \"g-\")\n",
    "plt.show()"
   ]
  },
  {
   "cell_type": "markdown",
   "id": "2a35be16",
   "metadata": {},
   "source": [
    "#### 2.2.5 Evaluate accuracy"
   ]
  },
  {
   "cell_type": "code",
   "execution_count": null,
   "id": "ff5dc716",
   "metadata": {},
   "outputs": [],
   "source": [
    "# Evaluate accuracy\n",
    "\n",
    "# score the result\n",
    "regressor_score = regressor.score(X, y)\n",
    "print(\n",
    "    \"The accuracy score of NeuralNetworkRegressor using TwoLayerQNN is {}\".format(regressor_score)\n",
    ")"
   ]
  },
  {
   "cell_type": "markdown",
   "id": "442c5865",
   "metadata": {},
   "source": [
    "Similarly to the classification models, we can obtain an array of trained weights by querying a corresponding property of the model. In this model we have only one parameter defined as `param_y` above."
   ]
  },
  {
   "cell_type": "code",
   "execution_count": null,
   "id": "32bebbf4",
   "metadata": {},
   "outputs": [],
   "source": [
    "regressor.weights"
   ]
  },
  {
   "cell_type": "markdown",
   "id": "a31d0666",
   "metadata": {},
   "source": [
    "### 2.3. Regression with the Variational Quantum Regressor (`VQR`)\n",
    "\n",
    "Similar to the `VQC` for classification, the `VQR` is a special variant of the `NeuralNetworkRegressor` with a `OpflowQNN`. By default it considers the `L2Loss` function to minimize the mean squared error between predictions and targets."
   ]
  },
  {
   "cell_type": "code",
   "execution_count": null,
   "id": "461ded59",
   "metadata": {},
   "outputs": [],
   "source": [
    "# Step 1: Construct Variational Quantum Regressor\n",
    "\n",
    "vqr = VQR(\n",
    "    feature_map=feature_map,\n",
    "    ansatz=ansatz,\n",
    "    optimizer=L_BFGS_B(maxiter=5),\n",
    "    quantum_instance=quantum_instance,\n",
    "    callback=callback_graph,\n",
    ")"
   ]
  },
  {
   "cell_type": "code",
   "execution_count": null,
   "id": "455000c3",
   "metadata": {},
   "outputs": [],
   "source": [
    "# Step 2: Fit the model\n",
    "\n",
    "# create empty array for callback to store evaluations of the objective function\n",
    "objective_func_vals = []\n",
    "\n",
    "# plot the given figsize\n",
    "plt.rcParams[\"figure.figsize\"] = (12, 6)\n",
    "\n",
    "# fit regressor\n",
    "vqr.fit(X, y)\n",
    "\n",
    "# return to default figsize\n",
    "plt.rcParams[\"figure.figsize\"] = (6, 4)"
   ]
  },
  {
   "cell_type": "code",
   "execution_count": null,
   "id": "8d114877",
   "metadata": {},
   "outputs": [],
   "source": [
    "# Step 3: Predict using the model\n",
    "\n",
    "# plot target function\n",
    "plt.plot(X_, f(X_), \"r--\")\n",
    "\n",
    "# plot data\n",
    "plt.plot(X, y, \"bo\")\n",
    "\n",
    "# plot fitted line\n",
    "y_ = vqr.predict(X_)\n",
    "plt.plot(X_, y_, \"g-\")\n",
    "plt.show()"
   ]
  },
  {
   "cell_type": "code",
   "execution_count": null,
   "id": "64499b4e",
   "metadata": {},
   "outputs": [],
   "source": [
    "# Step 4: Evaluate accuracy\n",
    "\n",
    "# score the result\n",
    "vqr_score = vqr.score(X, y)\n",
    "print(\"The accuracy score of VQR is {}\".format(vqr_score))"
   ]
  },
  {
   "cell_type": "markdown",
   "id": "1cd4bd02",
   "metadata": {},
   "source": [
    "## What was learned\n",
    "\n",
    "In this tutorial, we understood the quantum version of the first supervised machine learning problems we come across in literature, namely classification and regression. We implemented solution for classification using `NeuralNetworkClassifier` and it's variational wrapper `VQC`, similarly for regression we used `NeuralNetworkRegressor` and it's variational wrapper `VQC`. Further, to make `NeuralNetworkClassifier` and `NeuralNetworkRegressor` work we use `Quantum Neural Networks`, which were introduced in [this](https://qiskit.org/documentation/machine-learning/tutorials/01_neural_networks.html) tutorial. \n",
    "\n",
    "We developed 3 models for classification, 1 for multiclass classification and 2 for regression. The accuracy of all the models created in this tutorial are compared below"
   ]
  },
  {
   "cell_type": "code",
   "execution_count": null,
   "id": "bccc2e93",
   "metadata": {},
   "outputs": [],
   "source": [
    "print(f\"Classification Model                     | Accuracy Score\")\n",
    "print(f\"NeuralNetworkClassifier with TwoLayerQNN | {opflow_classifier_score:10.2f}\")\n",
    "print(f\"NeuralNetworkClassifier with CircuitQNN  | {circuit_classifier_score:10.2f}\")\n",
    "print(f\"Variational Quantum Classifier           | {vqc_classifier_score:10.2f}\")\n",
    "print(f\"VQC Multiclass classification            | {vqc_multiclass_classifier_score:10.2f}\")\n",
    "print(f\"----------------------------------------------------------\")\n",
    "print(f\"Regression Model                         | Accuracy Score\")\n",
    "print(f\"NeuralNetworkRegressor with TwoLayerQNN  | {regressor_score:10.2f}\")\n",
    "print(f\"Variational Quantum Regressor            | {vqr_score:10.2f}\")"
   ]
  },
  {
   "cell_type": "code",
   "execution_count": null,
   "id": "5e922047",
   "metadata": {},
   "outputs": [],
   "source": [
    "import qiskit.tools.jupyter\n",
    "\n",
    "%qiskit_version_table\n",
    "%qiskit_copyright"
   ]
  }
 ],
 "metadata": {
  "kernelspec": {
   "display_name": "qml_env",
   "language": "python",
   "name": "qml_env"
  },
  "language_info": {
   "codemirror_mode": {
    "name": "ipython",
    "version": 3
   },
   "file_extension": ".py",
   "mimetype": "text/x-python",
   "name": "python",
   "nbconvert_exporter": "python",
   "pygments_lexer": "ipython3",
   "version": "3.9.5"
  },
  "toc": {
   "base_numbering": 1,
   "nav_menu": {},
   "number_sections": true,
   "sideBar": true,
   "skip_h1_title": false,
   "title_cell": "Table of Contents",
   "title_sidebar": "Contents",
   "toc_cell": false,
   "toc_position": {},
   "toc_section_display": true,
   "toc_window_display": false
  }
 },
 "nbformat": 4,
 "nbformat_minor": 5
}
