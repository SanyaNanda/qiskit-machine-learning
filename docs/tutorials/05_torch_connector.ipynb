{
 "cells": [
  {
   "cell_type": "markdown",
   "id": "secondary-copying",
   "metadata": {},
   "source": [
    "# Torch Connector and Hybrid QNNs\n",
    "\n",
    "## Overview\n",
    "\n",
    "This tutorial introduces Qiskit's `TorchConnector` [class](https://qiskit.org/documentation/machine-learning/stubs/qiskit_machine_learning.connectors.TorchConnector.html) and demonstrates how the `TorchConnector` allows for a natural integration of any `NeuralNetwork` from `qiskit-machine-learning` into a `PyTorch` workflow.\n",
    "\n",
    "This tutorial is structured as follows:\n",
    "\n",
    "[Part 1: Simple Classification & Regression](#Part-1:-Simple-Classification-&-Regression): The first part of this tutorial shows how quantum neural networks can be trained using PyTorch's automatic differentiation engine [torch.autograd](https://pytorch.org/tutorials/beginner/blitz/autograd_tutorial.html) for simple classification and regression tasks. \n",
    "\n",
    "1. [Classification](#1.-Classification)\n",
    "    1. Classification with PyTorch and `EstimatorQNN`\n",
    "    2. Classification with PyTorch and `SamplerQNN`\n",
    "2. [Regression](#2.-Regression)\n",
    "    1. Regression with PyTorch and `SamplerQNN`\n",
    "\n",
    "[Part 2: MNIST Classification, Hybrid QNNs](#Part-2:-MNIST-Classification,-Hybrid-QNNs): The second part of this tutorial illustrates how to embed a (Quantum) `NeuralNetwork` into a target PyTorch workflow (in this case, a typical CNN architecture) to classify MNIST data in a hybrid quantum-classical manner."
   ]
  },
  {
   "cell_type": "markdown",
   "id": "5f3b6c61",
   "metadata": {},
   "source": [
    "## 1. Introduction\n",
    "\n",
    "`TorchConnector` takes a Qiskit `NeuralNetwork` and makes it available as a PyTorch `Module`. The resulting module can be seamlessly incorporated into PyTorch classical architectures and trained jointly without additional considerations, enabling the development and testing of novel **hybrid quantum-classical** machine learning architectures. This is helpful in building quantum machine learning models upon already existing classical model frameworks being greatly used in the real world. Now let's get hands on!"
   ]
  },
  {
   "cell_type": "markdown",
   "id": "ec841e88",
   "metadata": {},
   "source": [
    "We begin by setting up some utilities like fixing the algorithmic seed to ensure that the results don't change between runs."
   ]
  },
  {
   "cell_type": "code",
   "execution_count": 1,
   "id": "0c3bb172",
   "metadata": {},
   "outputs": [],
   "source": [
    "from qiskit.utils import algorithm_globals\n",
    "\n",
    "algorithm_globals.random_seed = 42"
   ]
  },
  {
   "cell_type": "markdown",
   "id": "unique-snapshot",
   "metadata": {},
   "source": [
    "## Part 1: Simple Classification & Regression"
   ]
  },
  {
   "cell_type": "markdown",
   "id": "surgical-penetration",
   "metadata": {},
   "source": [
    "## 1. Classification\n",
    "\n",
    "First, we show how `TorchConnector` allows to train a Quantum `NeuralNetwork` to solve a classification task using PyTorch's automatic differentiation engine. In order to illustrate this, we will perform **binary classification** on a randomly generated dataset.\n",
    "\n",
    "### 1.1. Preparing the dataset\n",
    "We generate a binary classification dataset with 2 features (or attributes) and 20 instances. We generate the 2 attributes with random values for the 20 instances and assign these values to X variable. For generating the binary labels corresponding to the instances we calculate y01 which can be either 0 or 1. Further, we map y01 to y where y can be either -1 or 1. \n",
    "\n",
    "Note: y01 will be used with `SamplerQNN` and y will be used with `EstimatorQNN` later on in the tutorial."
   ]
  },
  {
   "cell_type": "code",
   "execution_count": 2,
   "id": "37bf1ffa",
   "metadata": {
    "scrolled": true
   },
   "outputs": [],
   "source": [
    "import numpy as np\n",
    "\n",
    "num_inputs = 2\n",
    "num_samples = 20\n",
    "\n",
    "X = 2 * algorithm_globals.random.random([num_samples, num_inputs]) - 1\n",
    "y01 = 1 * (np.sum(X, axis=1) >= 0)  \n",
    "y = 2 * y01 - 1  "
   ]
  },
  {
   "cell_type": "markdown",
   "id": "9bf3f89d",
   "metadata": {},
   "source": [
    "Let's have a look at 5 instance to understand the dataset better."
   ]
  },
  {
   "cell_type": "code",
   "execution_count": 3,
   "id": "b6f4befd",
   "metadata": {},
   "outputs": [
    {
     "name": "stdout",
     "output_type": "stream",
     "text": [
      "Instance 0: X = [ 0.5479121  -0.12224312]  | y01 = 1 | y = 1\n",
      "Instance 1: X = [0.71719584 0.39473606]  | y01 = 1 | y = 1\n",
      "Instance 2: X = [-0.8116453  0.9512447]  | y01 = 1 | y = 1\n",
      "Instance 3: X = [0.5222794  0.57212861]  | y01 = 1 | y = 1\n",
      "Instance 4: X = [-0.74377273 -0.09922812]  | y01 = 0 | y = -1\n"
     ]
    }
   ],
   "source": [
    "for i in range(5):\n",
    "    print(\"Instance {}: X = {}  | y01 = {} | y = {}\".format(i,X[i],y01[i],y[i])) "
   ]
  },
  {
   "cell_type": "markdown",
   "id": "740ef84c",
   "metadata": {},
   "source": [
    "Now we convert X, y01 and y to torch Tensors."
   ]
  },
  {
   "cell_type": "code",
   "execution_count": 4,
   "id": "cf966e25",
   "metadata": {},
   "outputs": [
    {
     "data": {
      "text/plain": [
       "(tensor([ 0.5479, -0.1222]), tensor(1), tensor([1.]))"
      ]
     },
     "execution_count": 4,
     "metadata": {},
     "output_type": "execute_result"
    }
   ],
   "source": [
    "from torch import Tensor\n",
    "\n",
    "X_ = Tensor(X)\n",
    "y01_ = Tensor(y01).reshape(len(y)).long()\n",
    "y_ = Tensor(y).reshape(len(y), 1)\n",
    "X_[0], y01_[0], y_[0]"
   ]
  },
  {
   "cell_type": "markdown",
   "id": "41dea73b",
   "metadata": {},
   "source": [
    "Let's visualize the dataset graphically."
   ]
  },
  {
   "cell_type": "code",
   "execution_count": 5,
   "id": "secure-tragedy",
   "metadata": {},
   "outputs": [
    {
     "data": {
      "image/png": "[encoded data removed]",
      "text/plain": [
       "<Figure size 640x480 with 1 Axes>"
      ]
     },
     "metadata": {},
     "output_type": "display_data"
    }
   ],
   "source": [
    "import matplotlib.pyplot as plt\n",
    "\n",
    "for x, y_target in zip(X, y):\n",
    "    if y_target == 1:\n",
    "        plt.plot(x[0], x[1], \"bo\")\n",
    "    else:\n",
    "        plt.plot(x[0], x[1], \"go\")\n",
    "plt.plot([-1, 1], [1, -1], \"--\", color=\"black\")\n",
    "plt.show()"
   ]
  },
  {
   "cell_type": "markdown",
   "id": "edd209b7",
   "metadata": {},
   "source": [
    "In this plot,\n",
    "* The <span style=\"color: green;\">green</span> points denote Class -1\n",
    "* The <span style=\"color: blue;\">blue</span> points denote Class 1\n",
    "* The dotted line separates the 2 classes"
   ]
  },
  {
   "cell_type": "markdown",
   "id": "hazardous-rehabilitation",
   "metadata": {},
   "source": [
    "## A. Classification with PyTorch and  `EstimatorQNN`\n",
    "\n",
    "Linking an `EstimatorQNN` to PyTorch is relatively straightforward. Here we illustrate this by using the `EstimatorQNN` constructed from a feature map and an ansatz, introduced in a previous tutorial that can be reviewed [here](https://qiskit.org/documentation/machine-learning/tutorials/01_neural_networks.html).\n",
    "\n",
    "### A.1. Defining the quantum circuit using feature map and ansatz\n",
    "We create a quantum circuit with the number of qubits equal to the number of features in the dataset, that is 2 in this case. Then we append the feature map and ansatz to the circuit respectively. Both, feature map and ansatz take the number of features in the dataset as input parameter. Note that feature map will be provided to `EstimatorQNN` as input and ansatz will represent the weights in `EstimatorQNN`."
   ]
  },
  {
   "cell_type": "code",
   "execution_count": 6,
   "id": "fewer-desperate",
   "metadata": {},
   "outputs": [
    {
     "data": {
      "image/png": "[encoded data removed]",
      "text/plain": [
       "<Figure size 705.35x200.667 with 1 Axes>"
      ]
     },
     "execution_count": 6,
     "metadata": {},
     "output_type": "execute_result"
    }
   ],
   "source": [
    "from qiskit import QuantumCircuit\n",
    "from qiskit.circuit.library import RealAmplitudes, ZZFeatureMap\n",
    "\n",
    "qc = QuantumCircuit(num_inputs)\n",
    "\n",
    "feature_map = ZZFeatureMap(num_inputs)\n",
    "qc.compose(feature_map, inplace=True)\n",
    "\n",
    "ansatz = RealAmplitudes(num_inputs)\n",
    "qc.compose(ansatz, inplace=True)\n",
    "\n",
    "qc.draw(\"mpl\")"
   ]
  },
  {
   "cell_type": "markdown",
   "id": "1806bd4a",
   "metadata": {},
   "source": [
    "### A.2. Constructing EstimatorQNN and speciying initial weights\n",
    "Now we construct the `EstimatorQNN` by passing the quantum circuit created above as an input parameter along with feature map as input and ansatz as weights."
   ]
  },
  {
   "cell_type": "code",
   "execution_count": 7,
   "id": "humanitarian-flavor",
   "metadata": {},
   "outputs": [],
   "source": [
    "from qiskit_machine_learning.neural_networks import EstimatorQNN\n",
    "\n",
    "qnn1 = EstimatorQNN(\n",
    "    circuit=qc, \n",
    "    input_params=feature_map.parameters, \n",
    "    weight_params=ansatz.parameters\n",
    ")"
   ]
  },
  {
   "cell_type": "markdown",
   "id": "50b1c7bc",
   "metadata": {},
   "source": [
    "Next we declare the initial weights randomly. If we don't explicitly declare the initial weights they are chosen uniformly at random from [-1, 1]."
   ]
  },
  {
   "cell_type": "code",
   "execution_count": 8,
   "id": "c6460d60",
   "metadata": {},
   "outputs": [
    {
     "name": "stdout",
     "output_type": "stream",
     "text": [
      "Initial weights: \n",
      " [-0.01256962  0.06653564  0.04005302 -0.03752667  0.06645196  0.06095287\n",
      " -0.02250432 -0.04233438]\n"
     ]
    }
   ],
   "source": [
    "initial_weights = 0.1 * (2 * algorithm_globals.random.random(qnn1.num_weights) - 1)\n",
    "print(\"Initial weights: \\n\", initial_weights)"
   ]
  },
  {
   "cell_type": "markdown",
   "id": "ea05c78b",
   "metadata": {},
   "source": [
    "### A.3. Setting up TorchConnector using EstimatorQNN and initial weights\n",
    "Finally, we set up PyTorch module using TorchConnector. We pass the EstimatorQNN and the initial weights to TorchConnector. "
   ]
  },
  {
   "cell_type": "code",
   "execution_count": 9,
   "id": "likely-grace",
   "metadata": {},
   "outputs": [],
   "source": [
    "from qiskit_machine_learning.connectors import TorchConnector\n",
    "\n",
    "model1 = TorchConnector(qnn1, initial_weights=initial_weights)"
   ]
  },
  {
   "cell_type": "markdown",
   "id": "8995be3a",
   "metadata": {},
   "source": [
    "We can test the model with a single input as follows"
   ]
  },
  {
   "cell_type": "code",
   "execution_count": 10,
   "id": "576b2235",
   "metadata": {},
   "outputs": [
    {
     "data": {
      "text/plain": [
       "tensor([-0.3285], grad_fn=<_TorchNNFunctionBackward>)"
      ]
     },
     "execution_count": 10,
     "metadata": {},
     "output_type": "execute_result"
    }
   ],
   "source": [
    "model1(X_[0, :])"
   ]
  },
  {
   "cell_type": "markdown",
   "id": "e4bacd59",
   "metadata": {},
   "source": [
    "### A.4. Defining the optimizer and loss function\n",
    "\n",
    "#### Optimizer\n",
    "The choice of optimizer for training any machine learning model can be crucial in determining the success of our training's outcome. When using `TorchConnector`, we get access to all of the optimizer algorithms defined in the `torch.optim` [package](https://pytorch.org/docs/stable/optim.html). Some of the most famous algorithms used in popular machine learning architectures include **Adam**, **SGD** or **Adagrad**. However, for this tutorial we will be using the **L-BFGS algorithm** (`torch.optim.LBFGS`), one of the most well know second-order optimization algorithms for numerical optimization. \n",
    "\n",
    "#### Loss Function\n",
    "As for the loss function, we can take advantage of PyTorch's pre-defined modules from `torch.nn`, such as the [Cross-Entropy](https://pytorch.org/docs/stable/generated/torch.nn.CrossEntropyLoss.html) or [Mean Squared Error](https://pytorch.org/docs/stable/generated/torch.nn.MSELoss.html) losses. \n",
    "\n",
    "Also, we set the model to training mode."
   ]
  },
  {
   "cell_type": "code",
   "execution_count": 11,
   "id": "following-extension",
   "metadata": {},
   "outputs": [
    {
     "data": {
      "text/plain": [
       "TorchConnector()"
      ]
     },
     "execution_count": 11,
     "metadata": {},
     "output_type": "execute_result"
    }
   ],
   "source": [
    "from torch.nn import Linear, CrossEntropyLoss, MSELoss\n",
    "from torch.optim import LBFGS\n",
    "\n",
    "optimizer = LBFGS(model1.parameters())\n",
    "f_loss = MSELoss(reduction=\"sum\")\n",
    "model1.train()"
   ]
  },
  {
   "cell_type": "markdown",
   "id": "368a5d85",
   "metadata": {},
   "source": [
    "**💡 Clarification:** \n",
    "In classical machine learning, the general rule of thumb is to apply a Cross-Entropy loss to classification tasks and MSE loss to regression tasks. However, this recommendation is given under the assumption that the output of the classification network is a class probability value in the [0,1] range, usually this is achieved through a Softmax layer. The following example for `EstimatorQNN` does not include such layer, and we don't apply any mapping to the output, therefore the QNN's output can take any value in the range [-1,1].\n",
    "\n",
    "Precisely because of this, the example above uses MSELoss for classification despite it not being the norm (but we encourage you to experiment with different loss functions and see how they can impact training results)."
   ]
  },
  {
   "cell_type": "markdown",
   "id": "962101b5",
   "metadata": {},
   "source": [
    "### A.5. Training the model\n",
    "LBFGS needs to reevaluate the function multiple times, so you have to pass in a closure that allows them to recompute the model. The closure should clear the gradients, compute the loss, and return it. You can explore further [here](https://pytorch.org/docs/stable/optim.html).\n",
    "\n",
    "Also, the output will be in [-1,1] range so we use y_ with X_ for training the model."
   ]
  },
  {
   "cell_type": "code",
   "execution_count": 12,
   "id": "caf0825f",
   "metadata": {
    "scrolled": true
   },
   "outputs": [
    {
     "name": "stdout",
     "output_type": "stream",
     "text": [
      "Training ...\n",
      "Loss: 25.5356\n",
      "Loss: 22.6968\n",
      "Loss: 20.0392\n",
      "Loss: 19.6879\n",
      "Loss: 19.2672\n",
      "Loss: 19.0254\n",
      "Loss: 18.1547\n",
      "Loss: 17.3379\n",
      "Loss: 19.0828\n",
      "Loss: 17.0733\n",
      "Loss: 16.2185\n",
      "Loss: 14.9926\n",
      "Loss: 14.9293\n",
      "Loss: 14.9145\n",
      "Loss: 14.9076\n",
      "Loss: 14.9024\n",
      "Loss: 14.9021\n",
      "Loss: 14.9021\n",
      "Loss: 14.9021\n"
     ]
    },
    {
     "data": {
      "text/plain": [
       "tensor(25.5356, grad_fn=<MseLossBackward0>)"
      ]
     },
     "execution_count": 12,
     "metadata": {},
     "output_type": "execute_result"
    }
   ],
   "source": [
    "print(\"Training ...\")\n",
    "\n",
    "def closure():\n",
    "    optimizer.zero_grad()\n",
    "    loss = f_loss(model1(X_) , y_) \n",
    "    loss.backward() \n",
    "    print(\"Loss: {:.4f}\".format(loss.item()))\n",
    "    return loss\n",
    "\n",
    "optimizer.step(closure)"
   ]
  },
  {
   "cell_type": "markdown",
   "id": "fa00d711",
   "metadata": {},
   "source": [
    "### A.6. Evaluating the model"
   ]
  },
  {
   "cell_type": "code",
   "execution_count": 13,
   "id": "240f887c",
   "metadata": {},
   "outputs": [
    {
     "name": "stdout",
     "output_type": "stream",
     "text": [
      "Accuracy when classifying using torch connector with EstimatorQNN: 0.8\n"
     ]
    }
   ],
   "source": [
    "y_predict = []\n",
    "for x, y_target in zip(X, y):\n",
    "    output = model1(Tensor(x))\n",
    "    y_predict += [np.sign(output.detach().numpy())[0]]\n",
    "EstimatorQNN_model_accuracy = sum(y_predict == y) / len(y)\n",
    "print(\"Accuracy when classifying using torch connector with EstimatorQNN:\", EstimatorQNN_model_accuracy)"
   ]
  },
  {
   "cell_type": "code",
   "execution_count": 14,
   "id": "efficient-bangkok",
   "metadata": {},
   "outputs": [
    {
     "data": {
      "image/png": "[encoded data removed]",
      "text/plain": [
       "<Figure size 640x480 with 1 Axes>"
      ]
     },
     "metadata": {},
     "output_type": "display_data"
    }
   ],
   "source": [
    "for x, y_target, y_p in zip(X, y, y_predict):\n",
    "    if y_target == 1:\n",
    "        plt.plot(x[0], x[1], \"bo\")\n",
    "    else:\n",
    "        plt.plot(x[0], x[1], \"go\")\n",
    "    if y_target != y_p:\n",
    "        plt.scatter(x[0], x[1], s=200, facecolors=\"none\", edgecolors=\"r\", linewidths=2)\n",
    "plt.plot([-1, 1], [1, -1], \"--\", color=\"black\")\n",
    "plt.show()"
   ]
  },
  {
   "cell_type": "markdown",
   "id": "f5a18a13",
   "metadata": {},
   "source": [
    "In this plot,\n",
    "* The <span style=\"color: green;\">green</span> points denote Class -1\n",
    "* The <span style=\"color: blue;\">blue</span> points denote Class 1\n",
    "* The <span style=\"color: red;\">red</span> encircled points indicate wrongly classified data points.\n",
    "* The dotted line separates the 2 classes"
   ]
  },
  {
   "cell_type": "markdown",
   "id": "typical-cross",
   "metadata": {},
   "source": [
    "## B. Classification with PyTorch and `SamplerQNN`\n",
    "\n",
    "Linking a `SamplerQNN` to PyTorch requires a bit more attention than `EstimatorQNN`. Without the correct setup, backpropagation is not possible. \n",
    "\n",
    "In particular, we must make sure that we are returning a dense array of probabilities in the network's forward pass (`sparse=False`). This parameter is set up to `False` by default, so we just have to make sure that it has not been changed.\n",
    "\n",
    "**⚠️ Attention:** \n",
    "If we define a custom interpret function ( in the following example: `parity`), we must remember to explicitly provide the desired output shape ( in the following example: `2`). For more info on the initial parameter setup for `SamplerQNN`, please check out the [official qiskit documentation](https://qiskit.org/documentation/machine-learning/stubs/qiskit_machine_learning.neural_networks.SamplerQNN.html)."
   ]
  },
  {
   "cell_type": "markdown",
   "id": "e34667dd",
   "metadata": {},
   "source": [
    "### B.1. Defining the quantum circuit using feature map and ansatz\n",
    "We create a quantum circuit with the number of qubits equal to the number of features in the dataset, that is 2 in this case. Then we append the feature map and the ansatz to the circuit one after the other."
   ]
  },
  {
   "cell_type": "code",
   "execution_count": 15,
   "id": "bf5512fc",
   "metadata": {},
   "outputs": [
    {
     "data": {
      "image/png": "[encoded data removed]",
      "text/plain": [
       "<Figure size 621.739x200.667 with 1 Axes>"
      ]
     },
     "execution_count": 15,
     "metadata": {},
     "output_type": "execute_result"
    }
   ],
   "source": [
    "qc = QuantumCircuit(num_inputs)\n",
    "\n",
    "feature_map = ZZFeatureMap(num_inputs)\n",
    "qc.compose(feature_map, inplace=True)\n",
    "\n",
    "ansatz = RealAmplitudes(num_inputs, entanglement=\"linear\", reps=1)\n",
    "qc.compose(ansatz, inplace=True)\n",
    "\n",
    "qc.draw(\"mpl\")"
   ]
  },
  {
   "cell_type": "markdown",
   "id": "99dcb760",
   "metadata": {},
   "source": [
    "### B.2. Constructing SamplerQNN and initial setup\n",
    "We start by defining the interpret fucntion as `parity`. The parity function used here returns 0 if the count of ones in a binary string is even, otherwise 1.\n",
    "\n",
    "Note that interpret function is optional."
   ]
  },
  {
   "cell_type": "code",
   "execution_count": 16,
   "id": "present-operator",
   "metadata": {},
   "outputs": [
    {
     "name": "stdout",
     "output_type": "stream",
     "text": [
      "Parity for 1100 is: 0\n",
      "Parity for 1101 is: 1\n"
     ]
    }
   ],
   "source": [
    "parity = lambda x: \"{:b}\".format(x).count(\"1\") % 2  \n",
    "print(\"Parity for {} is: {}\".format(1100, parity(1100)))\n",
    "print(\"Parity for {} is: {}\".format(1101, parity(1101)))"
   ]
  },
  {
   "cell_type": "markdown",
   "id": "28279230",
   "metadata": {},
   "source": [
    "We specify the output shape as 2, as the parity function returns either 0 or 1."
   ]
  },
  {
   "cell_type": "code",
   "execution_count": 17,
   "id": "c438fe95",
   "metadata": {},
   "outputs": [],
   "source": [
    "output_shape = 2 "
   ]
  },
  {
   "cell_type": "markdown",
   "id": "d5b9f650",
   "metadata": {},
   "source": [
    "Now we construct the SamplerQNN using the quantum circuit defined earlier, input from feature map, weights from ansatz, parity function as the interpreter and output shape specified as 2."
   ]
  },
  {
   "cell_type": "code",
   "execution_count": 18,
   "id": "b2cf9cf9",
   "metadata": {},
   "outputs": [],
   "source": [
    "from qiskit_machine_learning.neural_networks import SamplerQNN\n",
    "\n",
    "qnn2 = SamplerQNN(\n",
    "    circuit=qc,\n",
    "    input_params=feature_map.parameters,\n",
    "    weight_params=ansatz.parameters,\n",
    "    interpret=parity,\n",
    "    output_shape=output_shape,\n",
    ")"
   ]
  },
  {
   "cell_type": "markdown",
   "id": "dc5088fb",
   "metadata": {},
   "source": [
    "Now we initialize the starting weights randomly. If we don't explicitly declare the initial weights they are chosen uniformly at random from [-1, 1]."
   ]
  },
  {
   "cell_type": "code",
   "execution_count": 19,
   "id": "64e54b5b",
   "metadata": {},
   "outputs": [
    {
     "name": "stdout",
     "output_type": "stream",
     "text": [
      "Initial weights:  [ 0.0364991  -0.0720495  -0.06001836 -0.09852755]\n"
     ]
    }
   ],
   "source": [
    "initial_weights = 0.1 * (2 * algorithm_globals.random.random(qnn2.num_weights) - 1)\n",
    "print(\"Initial weights: \", initial_weights)"
   ]
  },
  {
   "cell_type": "markdown",
   "id": "bf415dd1",
   "metadata": {},
   "source": [
    "### B.3. Defining the model using TorchConnector\n",
    "Finally, we define the model using TorchConnector by providing `SamplerQNN` and initial weights as input."
   ]
  },
  {
   "cell_type": "code",
   "execution_count": 20,
   "id": "31138513",
   "metadata": {},
   "outputs": [],
   "source": [
    "model2 = TorchConnector(qnn2, initial_weights)"
   ]
  },
  {
   "cell_type": "markdown",
   "id": "liquid-reviewer",
   "metadata": {},
   "source": [
    "For a reminder on optimizer and loss function choices, you can go back to [this section](#Optimizer). "
   ]
  },
  {
   "cell_type": "code",
   "execution_count": 21,
   "id": "marked-harvest",
   "metadata": {},
   "outputs": [
    {
     "data": {
      "text/plain": [
       "TorchConnector()"
      ]
     },
     "execution_count": 21,
     "metadata": {},
     "output_type": "execute_result"
    }
   ],
   "source": [
    "from torch.nn import CrossEntropyLoss\n",
    "from torch.optim import LBFGS\n",
    "\n",
    "optimizer = LBFGS(model2.parameters())\n",
    "f_loss = CrossEntropyLoss() \n",
    "model2.train()"
   ]
  },
  {
   "cell_type": "markdown",
   "id": "1cf4431b",
   "metadata": {},
   "source": [
    "### B.4. Training the model\n",
    "The output will be in [0,1] range so we use y01_ with X_ for training the model."
   ]
  },
  {
   "cell_type": "code",
   "execution_count": 22,
   "id": "c7f84328",
   "metadata": {
    "scrolled": true
   },
   "outputs": [
    {
     "name": "stdout",
     "output_type": "stream",
     "text": [
      "Training ...\n",
      "Loss: 0.6925\n",
      "Loss: 0.6882\n",
      "Loss: 0.6517\n",
      "Loss: 0.6486\n",
      "Loss: 0.6395\n",
      "Loss: 0.7055\n",
      "Loss: 0.6669\n",
      "Loss: 0.6787\n",
      "Loss: 0.6804\n",
      "Loss: 0.6957\n",
      "Loss: 0.7133\n",
      "Loss: 0.7563\n",
      "Loss: 0.7432\n",
      "Loss: 0.6606\n",
      "Loss: 0.6826\n",
      "Loss: 0.6667\n",
      "Loss: 0.7186\n",
      "Loss: 0.7483\n",
      "Loss: 0.6838\n",
      "Loss: 0.7127\n"
     ]
    }
   ],
   "source": [
    "print(\"Training ...\")\n",
    "\n",
    "def closure():\n",
    "    optimizer.zero_grad(set_to_none=True)\n",
    "    loss = f_loss(model2(X_), y01_) \n",
    "    loss.backward()  \n",
    "    print(\"Loss: {:.4f}\".format(loss.item()))\n",
    "    return loss\n",
    "\n",
    "optimizer.step(closure);"
   ]
  },
  {
   "cell_type": "markdown",
   "id": "b6a53360",
   "metadata": {},
   "source": [
    "### B.5. Evaluating the model"
   ]
  },
  {
   "cell_type": "code",
   "execution_count": 23,
   "id": "falling-electronics",
   "metadata": {},
   "outputs": [
    {
     "name": "stdout",
     "output_type": "stream",
     "text": [
      "Accuracy when classifying using torch connector with SamplerQNN: 0.45\n"
     ]
    }
   ],
   "source": [
    "y_predict = []\n",
    "for x in X:\n",
    "    output = model2(Tensor(x))\n",
    "    y_predict += [np.argmax(output.detach().numpy())]\n",
    "SamplerQNN_model_accuracy = sum(y_predict == y01) / len(y01)\n",
    "print(\"Accuracy when classifying using torch connector with SamplerQNN:\", SamplerQNN_model_accuracy)"
   ]
  },
  {
   "cell_type": "code",
   "execution_count": 24,
   "id": "55a24643",
   "metadata": {},
   "outputs": [
    {
     "data": {
      "image/png": "[encoded data removed]",
      "text/plain": [
       "<Figure size 640x480 with 1 Axes>"
      ]
     },
     "metadata": {},
     "output_type": "display_data"
    }
   ],
   "source": [
    "for x, y_target, y_ in zip(X, y01, y_predict):\n",
    "    if y_target == 1:\n",
    "        plt.plot(x[0], x[1], \"bo\")\n",
    "    else:\n",
    "        plt.plot(x[0], x[1], \"go\")\n",
    "    if y_target != y_:\n",
    "        plt.scatter(x[0], x[1], s=200, facecolors=\"none\", edgecolors=\"r\", linewidths=2)\n",
    "plt.plot([-1, 1], [1, -1], \"--\", color=\"black\")\n",
    "plt.show()"
   ]
  },
  {
   "cell_type": "markdown",
   "id": "aboriginal-white",
   "metadata": {},
   "source": [
    "In this plot,\n",
    "* The <span style=\"color: green;\">green</span> points denote Class -1\n",
    "* The <span style=\"color: blue;\">blue</span> points denote Class 1\n",
    "* The <span style=\"color: red;\">red</span> encircled points indicate wrongly classified data points.\n",
    "* The dotted line separates the 2 classes"
   ]
  },
  {
   "cell_type": "markdown",
   "id": "72b90e7b",
   "metadata": {},
   "source": [
    "### 1.2. Comparing the models"
   ]
  },
  {
   "cell_type": "code",
   "execution_count": 25,
   "id": "2983d6d5",
   "metadata": {
    "scrolled": true
   },
   "outputs": [
    {
     "name": "stdout",
     "output_type": "stream",
     "text": [
      "Classification Model                                   | Accuracy Score\n",
      "Classification using torch connector with EstimatorQNN |       0.80\n",
      "Classification using torch connector  with SamplerQNN  |       0.45\n"
     ]
    }
   ],
   "source": [
    "print(f\"Classification Model                                   | Accuracy Score\")\n",
    "print(f\"Classification using torch connector with EstimatorQNN | {EstimatorQNN_model_accuracy:10.2f}\")\n",
    "print(f\"Classification using torch connector  with SamplerQNN  | {SamplerQNN_model_accuracy:10.2f}\")"
   ]
  },
  {
   "cell_type": "markdown",
   "id": "2891926f",
   "metadata": {},
   "source": [
    "Up until now, we have trained two models for binary classification on the dataset we generated. We pass neural networks like `EstimatorQNN` and `SamplerQNN` from `qiskit-machine-learning` to `PyTorch` using the `TorchConnector`. We find that `EstimatorQNN` performs better than `SamplerQNN` on the chosen dataset.\n",
    "\n",
    "Now let's explore a Regression problem!"
   ]
  },
  {
   "cell_type": "markdown",
   "id": "scheduled-nicaragua",
   "metadata": {},
   "source": [
    "## 2. Regression \n",
    "\n",
    "### Regression with PyTorch and `EstimatorQNN`\n",
    "\n",
    "We use a model based on the `EstimatorQNN` to illustrate how to perform a regression task. The chosen dataset in this case is randomly generated following a sine wave. "
   ]
  },
  {
   "cell_type": "code",
   "execution_count": 62,
   "id": "amateur-dubai",
   "metadata": {},
   "outputs": [
    {
     "data": {
      "image/png": "[encoded data removed]",
      "text/plain": [
       "<Figure size 640x480 with 1 Axes>"
      ]
     },
     "metadata": {},
     "output_type": "display_data"
    }
   ],
   "source": [
    "num_samples = 20\n",
    "eps = 0.2\n",
    "lb, ub = -np.pi, np.pi\n",
    "f = lambda x: np.sin(x)\n",
    "\n",
    "X = (ub - lb) * algorithm_globals.random.random([num_samples, 1]) + lb\n",
    "y = f(X) + eps * (2 * algorithm_globals.random.random([num_samples, 1]) - 1)\n",
    "\n",
    "plt.plot(np.linspace(lb, ub), f(np.linspace(lb, ub)), \"r--\")\n",
    "plt.plot(X, y, \"bo\")\n",
    "plt.show()"
   ]
  },
  {
   "cell_type": "markdown",
   "id": "lovely-semiconductor",
   "metadata": {},
   "source": [
    "The network definition and training loop will be analogous to those of the classification task using `EstimatorQNN`. In this case, we define our own feature map and ansatz, but let's do it a little different."
   ]
  },
  {
   "cell_type": "code",
   "execution_count": 63,
   "id": "859f761e",
   "metadata": {},
   "outputs": [
    {
     "data": {
      "image/png": "[encoded data removed]",
      "text/plain": [
       "<Figure size 269.064x117.056 with 1 Axes>"
      ]
     },
     "execution_count": 63,
     "metadata": {},
     "output_type": "execute_result"
    }
   ],
   "source": [
    "from qiskit.circuit import Parameter\n",
    "\n",
    "param_x = Parameter(\"x\")\n",
    "feature_map = QuantumCircuit(1, name=\"fm\")\n",
    "feature_map.ry(param_x, 0)\n",
    "\n",
    "param_y = Parameter(\"y\")\n",
    "ansatz = QuantumCircuit(1, name=\"vf\")\n",
    "ansatz.ry(param_y, 0)\n",
    "\n",
    "qc = QuantumCircuit(1)\n",
    "qc.compose(feature_map, inplace=True)\n",
    "qc.compose(ansatz, inplace=True)\n",
    "qc.draw('mpl')"
   ]
  },
  {
   "cell_type": "markdown",
   "id": "cf7d1cb0",
   "metadata": {},
   "source": [
    "Once the quantum circuit is ready, we construct the `EstimatorQNN` with the use of the circuit."
   ]
  },
  {
   "cell_type": "code",
   "execution_count": 64,
   "id": "brazilian-adapter",
   "metadata": {},
   "outputs": [],
   "source": [
    "qnn3 = EstimatorQNN(\n",
    "    circuit=qc, \n",
    "    input_params=[param_x], \n",
    "    weight_params=[param_y])"
   ]
  },
  {
   "cell_type": "markdown",
   "id": "ae1f0cf0",
   "metadata": {},
   "source": [
    "We set up the initial weights.If we don't explicitly declare the initial weights they are chosen uniformly at random from [-1, 1]."
   ]
  },
  {
   "cell_type": "code",
   "execution_count": 65,
   "id": "45587acc",
   "metadata": {},
   "outputs": [
    {
     "name": "stdout",
     "output_type": "stream",
     "text": [
      "Initial weights:  [0.04308143]\n"
     ]
    }
   ],
   "source": [
    "initial_weights = 0.1 * (2 * algorithm_globals.random.random(qnn3.num_weights) - 1)\n",
    "print(\"Initial weights: \", initial_weights)"
   ]
  },
  {
   "cell_type": "markdown",
   "id": "68a1c926",
   "metadata": {},
   "source": [
    "Ultimately, we instantiate the model."
   ]
  },
  {
   "cell_type": "code",
   "execution_count": 66,
   "id": "1577f895",
   "metadata": {},
   "outputs": [],
   "source": [
    "model3 = TorchConnector(qnn3, initial_weights)"
   ]
  },
  {
   "cell_type": "markdown",
   "id": "waiting-competition",
   "metadata": {},
   "source": [
    "Next we set the optimizer and the loss function. For a reminder on optimizer and loss function choices, you can go back to [this section](#Optimizer).\n",
    "\n",
    "We also set the model to training mode."
   ]
  },
  {
   "cell_type": "code",
   "execution_count": 67,
   "id": "bibliographic-consciousness",
   "metadata": {
    "scrolled": true
   },
   "outputs": [
    {
     "data": {
      "text/plain": [
       "TorchConnector()"
      ]
     },
     "execution_count": 67,
     "metadata": {},
     "output_type": "execute_result"
    }
   ],
   "source": [
    "optimizer = LBFGS(model3.parameters())\n",
    "f_loss = MSELoss(reduction=\"sum\")\n",
    "model3.train()"
   ]
  },
  {
   "cell_type": "markdown",
   "id": "91c7a96d",
   "metadata": {},
   "source": [
    "Nothing left to construct, so we now train the model! We define the objective function in the `closure()` and run the optimizer."
   ]
  },
  {
   "cell_type": "code",
   "execution_count": 68,
   "id": "5ab5ed26",
   "metadata": {},
   "outputs": [
    {
     "name": "stdout",
     "output_type": "stream",
     "text": [
      "Training ...\n",
      "Loss: 25.1717\n",
      "Loss: 4.4181\n",
      "Loss: 1.8204\n",
      "Loss: 0.2917\n",
      "Loss: 0.2701\n",
      "Loss: 0.2699\n",
      "Loss: 0.2699\n"
     ]
    },
    {
     "data": {
      "text/plain": [
       "tensor(25.1717, grad_fn=<MseLossBackward0>)"
      ]
     },
     "execution_count": 68,
     "metadata": {},
     "output_type": "execute_result"
    }
   ],
   "source": [
    "print(\"Training ...\")\n",
    "\n",
    "def closure():\n",
    "    optimizer.zero_grad(set_to_none=True)  \n",
    "    loss = f_loss(model3(Tensor(X)), Tensor(y))  \n",
    "    loss.backward()  \n",
    "    print(\"Loss: {:.4f}\".format(loss.item()))\n",
    "    return loss\n",
    "\n",
    "optimizer.step(closure)"
   ]
  },
  {
   "cell_type": "markdown",
   "id": "1797d94d",
   "metadata": {},
   "source": [
    "Now we can evaluate the model by visualizing a plot of actual data as points and the fitted line of predictions from the regression model."
   ]
  },
  {
   "cell_type": "code",
   "execution_count": 69,
   "id": "timely-happiness",
   "metadata": {},
   "outputs": [
    {
     "data": {
      "image/png": "[encoded data removed]",
      "text/plain": [
       "<Figure size 640x480 with 1 Axes>"
      ]
     },
     "metadata": {},
     "output_type": "display_data"
    }
   ],
   "source": [
    "# Plot target function\n",
    "plt.plot(np.linspace(lb, ub), f(np.linspace(lb, ub)), \"r--\")\n",
    "\n",
    "# Plot data\n",
    "plt.plot(X, y, \"bo\")\n",
    "    \n",
    "# Plot fitted line\n",
    "y_ = []\n",
    "for x in np.linspace(lb, ub):\n",
    "    output = model3(Tensor([x]))\n",
    "    y_ += [output.detach().numpy()[0]]\n",
    "plt.plot(np.linspace(lb, ub), y_, \"g-\")\n",
    "plt.show()"
   ]
  },
  {
   "cell_type": "markdown",
   "id": "58e6d4a5",
   "metadata": {},
   "source": [
    "We evaluate the model in more formal terms by mathematically calculating the R2 score of the regressor."
   ]
  },
  {
   "cell_type": "code",
   "execution_count": 72,
   "id": "90db1fcb",
   "metadata": {
    "scrolled": false
   },
   "outputs": [
    {
     "name": "stdout",
     "output_type": "stream",
     "text": [
      "----------------------------------------------------------------------\n",
      "Regression Model                                      | Accuracy Score\n",
      "Regression using torch connector with EstimatorQNN    |       0.98\n",
      "----------------------------------------------------------------------\n"
     ]
    }
   ],
   "source": [
    "from sklearn.metrics import r2_score\n",
    "\n",
    "y_predict = []\n",
    "output = model3(Tensor([X]))\n",
    "y_predict += [output.detach().numpy()[0]]    \n",
    "    \n",
    "y_predict = Tensor(y_predict).reshape(20,)\n",
    "y = y.reshape(20,)\n",
    "regressor_accuracy_score = r2_score(y,y_predict)\n",
    "\n",
    "print(f\"----------------------------------------------------------------------\")\n",
    "print(f\"Regression Model                                      | Accuracy Score\")\n",
    "print(f\"Regression using torch connector with EstimatorQNN    | {regressor_accuracy_score:10.2f}\")\n",
    "print(f\"----------------------------------------------------------------------\")"
   ]
  },
  {
   "cell_type": "markdown",
   "id": "847756f6",
   "metadata": {},
   "source": [
    "🎉🎉🎉🎉\n",
    "**Woah!** \n",
    "We have covered a lot. We are capable of making hybrid models using classical models from PyTorch and connecting them with Quantum NeuralNetworks provided by qiskit-machine-learning to solve problems like classification and regression.\n",
    "\n",
    "Let's practice what we have learned on a real dataset in Part 2 of this tutorial."
   ]
  },
  {
   "cell_type": "markdown",
   "id": "individual-georgia",
   "metadata": {},
   "source": [
    "***\n",
    "\n",
    "## Part 2: MNIST Classification, Hybrid QNNs\n",
    "\n",
    "In this second part, we show how to leverage a hybrid quantum-classical neural network using `TorchConnector`, to perform a more complex image classification task on the MNIST handwritten digits dataset. \n",
    "\n",
    "For a more detailed (pre-`TorchConnector`) explanation on hybrid quantum-classical neural networks, you can check out the corresponding section in the [Qiskit Textbook](https://qiskit.org/textbook/ch-machine-learning/machine-learning-qiskit-pytorch.html)."
   ]
  },
  {
   "cell_type": "code",
   "execution_count": 35,
   "id": "otherwise-military",
   "metadata": {},
   "outputs": [],
   "source": [
    "# Additional torch-related imports\n",
    "import torch\n",
    "from torch import cat, no_grad, manual_seed\n",
    "from torch.utils.data import DataLoader\n",
    "from torchvision import datasets, transforms\n",
    "import torch.optim as optim\n",
    "from torch.nn import (\n",
    "    Module,\n",
    "    Conv2d,\n",
    "    Linear,\n",
    "    Dropout2d,\n",
    "    NLLLoss,\n",
    "    MaxPool2d,\n",
    "    Flatten,\n",
    "    Sequential,\n",
    "    ReLU,\n",
    ")\n",
    "import torch.nn.functional as F"
   ]
  },
  {
   "cell_type": "markdown",
   "id": "bronze-encounter",
   "metadata": {},
   "source": [
    "### Step 1: Defining Data-loaders for train and test"
   ]
  },
  {
   "cell_type": "markdown",
   "id": "parliamentary-middle",
   "metadata": {},
   "source": [
    "We take advantage of the `torchvision` [API](https://pytorch.org/vision/stable/datasets.html) to directly load a subset of the [MNIST dataset](https://en.wikipedia.org/wiki/MNIST_database) and define torch `DataLoader`s ([link](https://pytorch.org/docs/stable/data.html)) for train and test."
   ]
  },
  {
   "cell_type": "code",
   "execution_count": 36,
   "id": "worthy-charlotte",
   "metadata": {},
   "outputs": [],
   "source": [
    "# Train Dataset\n",
    "# -------------\n",
    "\n",
    "# Set train shuffle seed (for reproducibility)\n",
    "manual_seed(42)\n",
    "\n",
    "batch_size = 1\n",
    "n_samples = 100  # We will concentrate on the first 100 samples\n",
    "\n",
    "# Use pre-defined torchvision function to load MNIST train data\n",
    "X_train = datasets.MNIST(\n",
    "    root=\"./data\", train=True, download=True, transform=transforms.Compose([transforms.ToTensor()])\n",
    ")\n",
    "\n",
    "# Filter out labels (originally 0-9), leaving only labels 0 and 1\n",
    "idx = np.append(\n",
    "    np.where(X_train.targets == 0)[0][:n_samples], np.where(X_train.targets == 1)[0][:n_samples]\n",
    ")\n",
    "X_train.data = X_train.data[idx]\n",
    "X_train.targets = X_train.targets[idx]\n",
    "\n",
    "# Define torch dataloader with filtered data\n",
    "train_loader = DataLoader(X_train, batch_size=batch_size, shuffle=True)"
   ]
  },
  {
   "cell_type": "markdown",
   "id": "completed-spring",
   "metadata": {},
   "source": [
    "If we perform a quick visualization we can see that the train dataset consists of images of handwritten 0s and 1s."
   ]
  },
  {
   "cell_type": "code",
   "execution_count": 37,
   "id": "medieval-bibliography",
   "metadata": {},
   "outputs": [
    {
     "data": {
      "image/png": "[encoded data removed]",
      "text/plain": [
       "<Figure size 1000x300 with 6 Axes>"
      ]
     },
     "metadata": {},
     "output_type": "display_data"
    }
   ],
   "source": [
    "n_samples_show = 6\n",
    "\n",
    "data_iter = iter(train_loader)\n",
    "fig, axes = plt.subplots(nrows=1, ncols=n_samples_show, figsize=(10, 3))\n",
    "\n",
    "while n_samples_show > 0:\n",
    "    images, targets = data_iter.__next__()\n",
    "\n",
    "    axes[n_samples_show - 1].imshow(images[0, 0].numpy().squeeze(), cmap=\"gray\")\n",
    "    axes[n_samples_show - 1].set_xticks([])\n",
    "    axes[n_samples_show - 1].set_yticks([])\n",
    "    axes[n_samples_show - 1].set_title(\"Labeled: {}\".format(targets[0].item()))\n",
    "\n",
    "    n_samples_show -= 1"
   ]
  },
  {
   "cell_type": "code",
   "execution_count": 38,
   "id": "structural-chuck",
   "metadata": {},
   "outputs": [],
   "source": [
    "# Test Dataset\n",
    "# -------------\n",
    "\n",
    "# Set test shuffle seed (for reproducibility)\n",
    "# manual_seed(5)\n",
    "\n",
    "n_samples = 50\n",
    "\n",
    "# Use pre-defined torchvision function to load MNIST test data\n",
    "X_test = datasets.MNIST(\n",
    "    root=\"./data\", train=False, download=True, transform=transforms.Compose([transforms.ToTensor()])\n",
    ")\n",
    "\n",
    "# Filter out labels (originally 0-9), leaving only labels 0 and 1\n",
    "idx = np.append(\n",
    "    np.where(X_test.targets == 0)[0][:n_samples], np.where(X_test.targets == 1)[0][:n_samples]\n",
    ")\n",
    "X_test.data = X_test.data[idx]\n",
    "X_test.targets = X_test.targets[idx]\n",
    "\n",
    "# Define torch dataloader with filtered data\n",
    "test_loader = DataLoader(X_test, batch_size=batch_size, shuffle=True)"
   ]
  },
  {
   "cell_type": "markdown",
   "id": "abroad-morris",
   "metadata": {},
   "source": [
    "### Step 2: Defining the QNN and Hybrid Model"
   ]
  },
  {
   "cell_type": "markdown",
   "id": "super-tokyo",
   "metadata": {},
   "source": [
    "This second step shows the power of the `TorchConnector`. After defining our quantum neural network layer (in this case, a `EstimatorQNN`), we can embed it into a layer in our torch `Module` by initializing a torch connector as `TorchConnector(qnn)`.\n",
    "\n",
    "**⚠️ Attention:**\n",
    "In order to have an adequate gradient backpropagation in hybrid models,  we MUST set the initial parameter `input_gradients` to TRUE during the qnn initialization."
   ]
  },
  {
   "cell_type": "code",
   "execution_count": 39,
   "id": "urban-purse",
   "metadata": {},
   "outputs": [],
   "source": [
    "# Define and create QNN\n",
    "def create_qnn():\n",
    "    feature_map = ZZFeatureMap(2)\n",
    "    ansatz = RealAmplitudes(2, reps=1)\n",
    "    qc = QuantumCircuit(2)\n",
    "    qc.compose(feature_map, inplace=True)\n",
    "    qc.compose(ansatz, inplace=True)\n",
    "\n",
    "    # REMEMBER TO SET input_gradients=True FOR ENABLING HYBRID GRADIENT BACKPROP\n",
    "    qnn = EstimatorQNN(\n",
    "        circuit=qc,\n",
    "        input_params=feature_map.parameters,\n",
    "        weight_params=ansatz.parameters,\n",
    "        input_gradients=True,\n",
    "    )\n",
    "    return qnn\n",
    "\n",
    "\n",
    "qnn4 = create_qnn()"
   ]
  },
  {
   "cell_type": "code",
   "execution_count": 40,
   "id": "exclusive-productivity",
   "metadata": {},
   "outputs": [],
   "source": [
    "# Define torch NN module\n",
    "\n",
    "\n",
    "class Net(Module):\n",
    "    def __init__(self, qnn):\n",
    "        super().__init__()\n",
    "        self.conv1 = Conv2d(1, 2, kernel_size=5)\n",
    "        self.conv2 = Conv2d(2, 16, kernel_size=5)\n",
    "        self.dropout = Dropout2d()\n",
    "        self.fc1 = Linear(256, 64)\n",
    "        self.fc2 = Linear(64, 2)  # 2-dimensional input to QNN\n",
    "        self.qnn = TorchConnector(qnn)  # Apply torch connector, weights chosen\n",
    "        # uniformly at random from interval [-1,1].\n",
    "        self.fc3 = Linear(1, 1)  # 1-dimensional output from QNN\n",
    "\n",
    "    def forward(self, x):\n",
    "        x = F.relu(self.conv1(x))\n",
    "        x = F.max_pool2d(x, 2)\n",
    "        x = F.relu(self.conv2(x))\n",
    "        x = F.max_pool2d(x, 2)\n",
    "        x = self.dropout(x)\n",
    "        x = x.view(x.shape[0], -1)\n",
    "        x = F.relu(self.fc1(x))\n",
    "        x = self.fc2(x)\n",
    "        x = self.qnn(x)  # apply QNN\n",
    "        x = self.fc3(x)\n",
    "        return cat((x, 1 - x), -1)\n",
    "\n",
    "\n",
    "model4 = Net(qnn4)"
   ]
  },
  {
   "cell_type": "markdown",
   "id": "347deead",
   "metadata": {},
   "source": [
    "inline comments and links"
   ]
  },
  {
   "cell_type": "markdown",
   "id": "academic-specific",
   "metadata": {},
   "source": [
    "### Step 3: Training"
   ]
  },
  {
   "cell_type": "code",
   "execution_count": 41,
   "id": "precious-career",
   "metadata": {},
   "outputs": [
    {
     "name": "stdout",
     "output_type": "stream",
     "text": [
      "Training [10%]\tLoss: -1.1630\n",
      "Training [20%]\tLoss: -1.5294\n",
      "Training [30%]\tLoss: -1.7855\n",
      "Training [40%]\tLoss: -1.9863\n",
      "Training [50%]\tLoss: -2.2257\n",
      "Training [60%]\tLoss: -2.4513\n",
      "Training [70%]\tLoss: -2.6758\n",
      "Training [80%]\tLoss: -2.8832\n",
      "Training [90%]\tLoss: -3.1006\n",
      "Training [100%]\tLoss: -3.3061\n"
     ]
    }
   ],
   "source": [
    "# Define model, optimizer, and loss function\n",
    "optimizer = optim.Adam(model4.parameters(), lr=0.001)\n",
    "loss_func = NLLLoss()\n",
    "\n",
    "# Start training\n",
    "epochs = 10  # Set number of epochs\n",
    "loss_list = []  # Store loss history\n",
    "model4.train()  # Set model to training mode\n",
    "\n",
    "for epoch in range(epochs):\n",
    "    total_loss = []\n",
    "    for batch_idx, (data, target) in enumerate(train_loader):\n",
    "        optimizer.zero_grad(set_to_none=True)  # Initialize gradient\n",
    "        output = model4(data)  # Forward pass\n",
    "        loss = loss_func(output, target)  # Calculate loss\n",
    "        loss.backward()  # Backward pass\n",
    "        optimizer.step()  # Optimize weights\n",
    "        total_loss.append(loss.item())  # Store loss\n",
    "    loss_list.append(sum(total_loss) / len(total_loss))\n",
    "    print(\"Training [{:.0f}%]\\tLoss: {:.4f}\".format(100.0 * (epoch + 1) / epochs, loss_list[-1]))"
   ]
  },
  {
   "cell_type": "code",
   "execution_count": 42,
   "id": "spoken-stationery",
   "metadata": {
    "scrolled": true
   },
   "outputs": [
    {
     "data": {
      "image/png": "[encoded data removed]",
      "text/plain": [
       "<Figure size 640x480 with 1 Axes>"
      ]
     },
     "metadata": {},
     "output_type": "display_data"
    }
   ],
   "source": [
    "# Plot loss convergence\n",
    "plt.plot(loss_list)\n",
    "plt.title(\"Hybrid NN Training Convergence\")\n",
    "plt.xlabel(\"Training Iterations\")\n",
    "plt.ylabel(\"Neg. Log Likelihood Loss\")\n",
    "plt.show()"
   ]
  },
  {
   "cell_type": "markdown",
   "id": "physical-closure",
   "metadata": {},
   "source": [
    "Now we'll save the trained model, just to show how a hybrid model can be saved and re-used later for inference. To save and load hybrid models, when using the TorchConnector, follow the PyTorch recommendations of saving and loading the models."
   ]
  },
  {
   "cell_type": "code",
   "execution_count": 43,
   "id": "regulation-bread",
   "metadata": {},
   "outputs": [],
   "source": [
    "torch.save(model4.state_dict(), \"model4.pt\")"
   ]
  },
  {
   "cell_type": "markdown",
   "id": "pacific-flour",
   "metadata": {},
   "source": [
    "### Step 4: Evaluation"
   ]
  },
  {
   "cell_type": "markdown",
   "id": "fabulous-tribe",
   "metadata": {},
   "source": [
    "We start from recreating the model and loading the state from the previously saved file. You create a QNN layer using another simulator or a real hardware. So, you can train a model on real hardware available on the cloud and then for inference use a simulator or vice verse. For a sake of simplicity we create a new quantum neural network in the same way as above."
   ]
  },
  {
   "cell_type": "code",
   "execution_count": 44,
   "id": "prospective-flooring",
   "metadata": {},
   "outputs": [
    {
     "data": {
      "text/plain": [
       "<All keys matched successfully>"
      ]
     },
     "execution_count": 44,
     "metadata": {},
     "output_type": "execute_result"
    }
   ],
   "source": [
    "qnn5 = create_qnn()\n",
    "model5 = Net(qnn5)\n",
    "model5.load_state_dict(torch.load(\"model4.pt\"))"
   ]
  },
  {
   "cell_type": "code",
   "execution_count": 45,
   "id": "spectacular-conservative",
   "metadata": {},
   "outputs": [
    {
     "name": "stdout",
     "output_type": "stream",
     "text": [
      "Performance on test data:\n",
      "\tLoss: -3.3585\n",
      "\tAccuracy: 100.0%\n"
     ]
    }
   ],
   "source": [
    "model5.eval()  # set model to evaluation mode\n",
    "with no_grad():\n",
    "\n",
    "    correct = 0\n",
    "    for batch_idx, (data, target) in enumerate(test_loader):\n",
    "        output = model5(data)\n",
    "        if len(output.shape) == 1:\n",
    "            output = output.reshape(1, *output.shape)\n",
    "\n",
    "        pred = output.argmax(dim=1, keepdim=True)\n",
    "        correct += pred.eq(target.view_as(pred)).sum().item()\n",
    "\n",
    "        loss = loss_func(output, target)\n",
    "        total_loss.append(loss.item())\n",
    "\n",
    "    print(\n",
    "        \"Performance on test data:\\n\\tLoss: {:.4f}\\n\\tAccuracy: {:.1f}%\".format(\n",
    "            sum(total_loss) / len(total_loss), correct / len(test_loader) / batch_size * 100\n",
    "        )\n",
    "    )"
   ]
  },
  {
   "cell_type": "code",
   "execution_count": 46,
   "id": "color-brave",
   "metadata": {
    "scrolled": true,
    "tags": [
     "nbsphinx-thumbnail"
    ]
   },
   "outputs": [
    {
     "data": {
      "image/png": "[encoded data removed]",
      "text/plain": [
       "<Figure size 1000x300 with 6 Axes>"
      ]
     },
     "metadata": {},
     "output_type": "display_data"
    }
   ],
   "source": [
    "# Plot predicted labels\n",
    "\n",
    "n_samples_show = 6\n",
    "count = 0\n",
    "fig, axes = plt.subplots(nrows=1, ncols=n_samples_show, figsize=(10, 3))\n",
    "\n",
    "model5.eval()\n",
    "with no_grad():\n",
    "    for batch_idx, (data, target) in enumerate(test_loader):\n",
    "        if count == n_samples_show:\n",
    "            break\n",
    "        output = model5(data[0:1])\n",
    "        if len(output.shape) == 1:\n",
    "            output = output.reshape(1, *output.shape)\n",
    "\n",
    "        pred = output.argmax(dim=1, keepdim=True)\n",
    "\n",
    "        axes[count].imshow(data[0].numpy().squeeze(), cmap=\"gray\")\n",
    "\n",
    "        axes[count].set_xticks([])\n",
    "        axes[count].set_yticks([])\n",
    "        axes[count].set_title(\"Predicted {}\".format(pred.item()))\n",
    "\n",
    "        count += 1"
   ]
  },
  {
   "cell_type": "markdown",
   "id": "prompt-visibility",
   "metadata": {},
   "source": [
    "🎉🎉🎉🎉\n",
    "**You are now able to experiment with your own hybrid datasets and architectures using Qiskit Machine Learning.** \n",
    "**Good Luck!**\n",
    "\n",
    "We have learned how to use Qiskit's TorchConnector class with NeuralNetwork from Qiskit Machine Learning into a PyTorch workflow. We used this hybrid approach to first implement a solution to classification and regression problem on a small self generated dataset. We further dived into a real world example by solving MNIST number classification using the hybrid machine learning model comprising of quantum and classical.\n",
    "\n"
   ]
  },
  {
   "cell_type": "code",
   "execution_count": 47,
   "id": "related-wheat",
   "metadata": {},
   "outputs": [
    {
     "data": {
      "text/html": [
       "<h3>Version Information</h3><table><tr><th>Qiskit Software</th><th>Version</th></tr><tr><td><code>qiskit-terra</code></td><td>0.22.2</td></tr><tr><td><code>qiskit-aer</code></td><td>0.11.1</td></tr><tr><td><code>qiskit-ibmq-provider</code></td><td>0.19.2</td></tr><tr><td><code>qiskit</code></td><td>0.39.2</td></tr><tr><td><code>qiskit-machine-learning</code></td><td>0.6.0</td></tr><tr><th>System information</th></tr><tr><td>Python version</td><td>3.9.5</td></tr><tr><td>Python compiler</td><td>GCC 9.3.0</td></tr><tr><td>Python build</td><td>default, Nov 23 2021 15:27:38</td></tr><tr><td>OS</td><td>Linux</td></tr><tr><td>CPUs</td><td>2</td></tr><tr><td>Memory (Gb)</td><td>3.7498779296875</td></tr><tr><td colspan='2'>Thu Dec 01 11:21:31 2022 IST</td></tr></table>"
      ],
      "text/plain": [
       "<IPython.core.display.HTML object>"
      ]
     },
     "metadata": {},
     "output_type": "display_data"
    },
    {
     "data": {
      "text/html": [
       "<div style='width: 100%; background-color:#d5d9e0;padding-left: 10px; padding-bottom: 10px; padding-right: 10px; padding-top: 5px'><h3>This code is a part of Qiskit</h3><p>&copy; Copyright IBM 2017, 2022.</p><p>This code is licensed under the Apache License, Version 2.0. You may<br>obtain a copy of this license in the LICENSE.txt file in the root directory<br> of this source tree or at http://www.apache.org/licenses/LICENSE-2.0.<p>Any modifications or derivative works of this code must retain this<br>copyright notice, and modified files need to carry a notice indicating<br>that they have been altered from the originals.</p></div>"
      ],
      "text/plain": [
       "<IPython.core.display.HTML object>"
      ]
     },
     "metadata": {},
     "output_type": "display_data"
    }
   ],
   "source": [
    "import qiskit.tools.jupyter\n",
    "\n",
    "%qiskit_version_table\n",
    "%qiskit_copyright"
   ]
  }
 ],
 "metadata": {
  "kernelspec": {
   "display_name": "Python 3 (ipykernel)",
   "language": "python",
   "name": "python3"
  },
  "language_info": {
   "codemirror_mode": {
    "name": "ipython",
    "version": 3
   },
   "file_extension": ".py",
   "mimetype": "text/x-python",
   "name": "python",
   "nbconvert_exporter": "python",
   "pygments_lexer": "ipython3",
   "version": "3.9.5"
  },
  "toc": {
   "base_numbering": 1,
   "nav_menu": {},
   "number_sections": true,
   "sideBar": true,
   "skip_h1_title": false,
   "title_cell": "Table of Contents",
   "title_sidebar": "Contents",
   "toc_cell": false,
   "toc_position": {},
   "toc_section_display": true,
   "toc_window_display": false
  }
 },
 "nbformat": 4,
 "nbformat_minor": 5
}
