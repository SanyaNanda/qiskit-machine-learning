{
 "cells": [
  {
   "cell_type": "markdown",
   "id": "opened-florist",
   "metadata": {},
   "source": [
    "# Pegasos Quantum Support Vector Classifier\n",
    "\n",
    "## Overview\n",
    "In this tutorial, we will implement another SVM based algorithm that benefits from the quantum kernel method, namely `PegasosQSVC` from Qiskit Machine Learning.\n",
    "\n",
    "## Introduction\n",
    "Here, we are demonstrating another approach to classification that implements the Pegasos algorithm from the paper [Pegasos: Primal Estimated sub-GrAdient SOlver for SVM](https://home.ttic.edu/~nati/Publications/PegasosMPB.pdf) by Shalev-Shwartz et al. We introduce the implementation of the classification algorithm, `PegasosQSVC`, as an alternative to the `QSVC` available in Qiskit Machine Learning. For a refresher on QSVC, revisit [\"Quantum Kernel Machine Learning\"](./03_quantum_kernel.ipynb) tutorial. \n",
    "\n",
    "The `PegasosQSVC` algorithm is an alternative to the dual optimization from the `scikit-learn` package, benefits from the kernel trick, and yields a training complexity that is independent of the size of the training set. Thus, the `PegasosQSVC` is expected to train faster than QSVC for sufficiently large training sets.\n",
    "\n",
    "The algorithm can be used as direct replacement of `QSVC` with some hyper-parameterization."
   ]
  },
  {
   "cell_type": "markdown",
   "id": "thirty-painting",
   "metadata": {},
   "source": [
    "### 1. Preparing dataset"
   ]
  },
  {
   "cell_type": "code",
   "execution_count": 1,
   "id": "impressed-laser",
   "metadata": {
    "scrolled": true
   },
   "outputs": [
    {
     "data": {
      "image/png": "[encoded data removed]",
      "text/plain": [
       "<Figure size 500x500 with 1 Axes>"
      ]
     },
     "metadata": {},
     "output_type": "display_data"
    }
   ],
   "source": [
    "# Required imports\n",
    "from sklearn.datasets import make_blobs\n",
    "import matplotlib.pyplot as plt\n",
    "\n",
    "# Generate dataset for binary classification\n",
    "features, labels = make_blobs(n_samples=20, n_features=2, centers=2, random_state=3, shuffle=True)\n",
    "\n",
    "# Plot the dataset\n",
    "plt.figure(figsize=(5, 5))\n",
    "# Class A or 0\n",
    "plt.scatter(\n",
    "    features[:, 0][labels == 0],  # x (index 0) coordinate of class A (label 0)\n",
    "    features[:, 1][labels == 0],  # y (index 1) coordinate of class A (label 0)\n",
    "    c=\"red\",\n",
    ")\n",
    "# Class B or 1\n",
    "plt.scatter(\n",
    "    features[:, 0][labels == 1],  # x (index 0) coordinate of class B (label 1)\n",
    "    features[:, 1][labels == 1],  # y (index 1) coordinate of class B (label 1)\n",
    "    c=\"blue\",\n",
    ")\n",
    "plt.show()"
   ]
  },
  {
   "cell_type": "markdown",
   "id": "moderate-yugoslavia",
   "metadata": {},
   "source": [
    "### 2. Data Pre-processing: Feature Scaling and Splitting of dataset (Train and Test)\n",
    "We pre-process the data to ensure compatibility with the rotation encoding and split it into the training and testing datasets."
   ]
  },
  {
   "cell_type": "code",
   "execution_count": 2,
   "id": "adolescent-composer",
   "metadata": {},
   "outputs": [],
   "source": [
    "# Required imports\n",
    "import numpy as np\n",
    "from sklearn.model_selection import train_test_split\n",
    "from sklearn.preprocessing import MinMaxScaler\n",
    "\n",
    "# Scale the features using MinMaxScaler\n",
    "features = MinMaxScaler(feature_range=(0, np.pi)).fit_transform(features)\n",
    "\n",
    "# Split the dataset into train and test\n",
    "train_features, test_features, train_labels, test_labels = train_test_split(\n",
    "    features, labels, train_size=15, shuffle=False\n",
    ")"
   ]
  },
  {
   "cell_type": "markdown",
   "id": "central-poverty",
   "metadata": {},
   "source": [
    "### 3. Set Tuning Parameters of [PegasosQSVC](https://qiskit.org/documentation/machine-learning/stubs/qiskit_machine_learning.algorithms.PegasosQSVC.html)\n",
    "\n",
    "#### Number of qubits\n",
    "Start by setting the number of qubits to the number of features in the dataset, that is 2 features for the given dataset.\n",
    "\n",
    "#### Tau: The number of steps\n",
    "Next, set $\\tau$ to the number of steps to be performed during the training procedure. Keep in mind that there is no early stopping criterion in this algorithm and it iterates over all $\\tau$ steps.\n",
    "\n",
    "#### C: The regularization parameter\n",
    "Finally, set the hyperparameter $C$, a positive regularization parameter. The strength of the regularization is inversely proportional to $C$. A smaller $C$ induces smaller weights, that generally help in preventing overfitting. However, due to the nature of this algorithm, some of the computation steps become trivial for a larger $C$, thereby improving the performance of the algorithm drastically. The choice between smaller $C$ and larger $C$ is a trade off between overfitting and performance, respectively. \n",
    "\n",
    "How to finalize on the size of $C$:\n",
    "* If the data is linearly separable in feature space, $C$ should be chosen to be large. \n",
    "* If the separation is not perfect, $C$ should be chosen smaller to prevent overfitting."
   ]
  },
  {
   "cell_type": "code",
   "execution_count": 3,
   "id": "dying-dispatch",
   "metadata": {},
   "outputs": [],
   "source": [
    "# number of qubits is equal to the number of features\n",
    "num_qubits = 2\n",
    "\n",
    "# number of steps performed during the training procedure\n",
    "tau = 100\n",
    "\n",
    "# regularization parameter\n",
    "C = 1000"
   ]
  },
  {
   "cell_type": "markdown",
   "id": "improving-wilderness",
   "metadata": {},
   "source": [
    "### 4. Define the Quantum Kernel\n",
    "The algorithm will run using a kernel defined as follows:\n",
    "\n",
    "- A quantum kernel created from [ZFeatureMap](https://qiskit.org/documentation/stubs/qiskit.circuit.library.ZFeatureMap.html)\n",
    "- The default fidelity instantiated in [FidelityQuantumKernel](https://github.com/Qiskit/qiskit-machine-learning/blob/main/qiskit_machine_learning/kernels/fidelity_quantum_kernel.py)"
   ]
  },
  {
   "cell_type": "code",
   "execution_count": 4,
   "id": "automated-allergy",
   "metadata": {},
   "outputs": [],
   "source": [
    "# Required imports\n",
    "from qiskit import BasicAer\n",
    "from qiskit.circuit.library import ZFeatureMap\n",
    "from qiskit.utils import algorithm_globals\n",
    "from qiskit_machine_learning.kernels import FidelityQuantumKernel\n",
    "\n",
    "# Set the seed for reproducibility of results\n",
    "algorithm_globals.random_seed = 12345\n",
    "\n",
    "# Instantiate the quantum feature map using ZFeatureMap\n",
    "feature_map = ZFeatureMap(feature_dimension=num_qubits, reps=1)\n",
    "\n",
    "# Define Fidelity Quantum Kernel using ZFeatureMap\n",
    "qkernel = FidelityQuantumKernel(feature_map=feature_map)"
   ]
  },
  {
   "cell_type": "markdown",
   "id": "attractive-stationery",
   "metadata": {},
   "source": [
    "### 5. Define `PegasosQSVC`\n",
    "\n",
    "The implementation `PegasosQSVC` is compatible with the `scikit-learn` interfaces and follows the standard procedure of training a model. In the constructor, we pass parameters of the algorithm. In this case, the already set regularization hyper-parameter $C$ and the number of steps, are passed as the parameter along with the quantum kernel.\n",
    "\n",
    "Further on, we `fit` the model on features and labels of the training dataset, to train the model and consequently return a fitted classifier. Afterwards, we evaluate or score our model on features and labels of the testing dataset for accuracy."
   ]
  },
  {
   "cell_type": "code",
   "execution_count": 5,
   "id": "representative-thumb",
   "metadata": {},
   "outputs": [
    {
     "name": "stdout",
     "output_type": "stream",
     "text": [
      "PegasosQSVC classification test score: 1.0\n"
     ]
    }
   ],
   "source": [
    "# Required import\n",
    "from qiskit_machine_learning.algorithms import PegasosQSVC\n",
    "\n",
    "# Define PegasosQSVC model\n",
    "pegasos_qsvc = PegasosQSVC(quantum_kernel=qkernel, C=C, num_steps=tau)\n",
    "\n",
    "# Fit or train the model\n",
    "pegasos_qsvc.fit(train_features, train_labels)\n",
    "\n",
    "# Evaluate for accuracy on testing data\n",
    "pegasos_score = pegasos_qsvc.score(test_features, test_labels)\n",
    "print(f\"PegasosQSVC classification test score: {pegasos_score}\")"
   ]
  },
  {
   "cell_type": "markdown",
   "id": "sustainable-empire",
   "metadata": {},
   "source": [
    "### 6. Visualize the binary classification\n",
    "For visualization purposes we create a mesh grid of a predefined step that spans the minimum and maximum values applied in MinMaxScaler. We also add some margin to the grid for better representation of the training and testing samples."
   ]
  },
  {
   "cell_type": "code",
   "execution_count": 6,
   "id": "judicial-pottery",
   "metadata": {},
   "outputs": [],
   "source": [
    "# Specify the meshgrid\n",
    "grid_step = 0.2\n",
    "margin = 0.2\n",
    "grid_x, grid_y = np.meshgrid(\n",
    "    np.arange(-margin, np.pi + margin, grid_step), np.arange(-margin, np.pi + margin, grid_step)\n",
    ")"
   ]
  },
  {
   "cell_type": "markdown",
   "id": "marine-constitution",
   "metadata": {},
   "source": [
    "We convert the grid to the shape compatible with the model, that is `(n_samples, n_features)`.\n",
    "Then for each grid point we predict a label. In this case, the predicted labels at each node of the grid will be used for coloring the grid according to the classification."
   ]
  },
  {
   "cell_type": "code",
   "execution_count": 7,
   "id": "competitive-outdoors",
   "metadata": {},
   "outputs": [],
   "source": [
    "# Color the grid points as per the class label they fall in\n",
    "meshgrid_features = np.column_stack((grid_x.ravel(), grid_y.ravel()))\n",
    "meshgrid_colors = pegasos_qsvc.predict(meshgrid_features)"
   ]
  },
  {
   "cell_type": "markdown",
   "id": "former-constraint",
   "metadata": {},
   "source": [
    "Finally, we plot our grid according to the labels (colors) we obtained from the model, along with the training and testing samples."
   ]
  },
  {
   "cell_type": "code",
   "execution_count": 8,
   "id": "monetary-knife",
   "metadata": {
    "tags": [
     "nbsphinx-thumbnail"
    ]
   },
   "outputs": [
    {
     "data": {
      "image/png": "[encoded data removed]",
      "text/plain": [
       "<Figure size 500x500 with 1 Axes>"
      ]
     },
     "metadata": {},
     "output_type": "display_data"
    }
   ],
   "source": [
    "# Specify the plot settings\n",
    "plt.figure(figsize=(5, 5))\n",
    "meshgrid_colors = meshgrid_colors.reshape(grid_x.shape)\n",
    "plt.pcolormesh(grid_x, grid_y, meshgrid_colors, cmap=\"RdBu\", shading=\"auto\")\n",
    "\n",
    "# Class: A train\n",
    "plt.scatter(\n",
    "    train_features[:, 0][\n",
    "        train_labels == 0\n",
    "    ],  # x (index 0) coordinate of class A (label 0) in training samples\n",
    "    train_features[:, 1][\n",
    "        train_labels == 0\n",
    "    ],  # y (index 1) coordinate of class A (label 0) in training samples\n",
    "    marker=\"s\",\n",
    "    facecolors=\"w\",\n",
    "    edgecolors=\"r\",\n",
    "    label=\"A train\",\n",
    ")\n",
    "\n",
    "# Class: B train\n",
    "plt.scatter(\n",
    "    train_features[:, 0][\n",
    "        train_labels == 1\n",
    "    ],  # x (index 0) coordinate of class B (label 1) in training samples\n",
    "    train_features[:, 1][\n",
    "        train_labels == 1\n",
    "    ],  # y (index 1) coordinate of class B (label 1) in training samples\n",
    "    marker=\"o\",\n",
    "    facecolors=\"w\",\n",
    "    edgecolors=\"b\",\n",
    "    label=\"B train\",\n",
    ")\n",
    "\n",
    "# Class: A test\n",
    "plt.scatter(\n",
    "    test_features[:, 0][\n",
    "        test_labels == 0\n",
    "    ],  # x (index 0) coordinate of class A (label 0) in testing samples\n",
    "    test_features[:, 1][\n",
    "        test_labels == 0\n",
    "    ],  # y (index 1) coordinate of class A (label 0) in testing samples\n",
    "    marker=\"s\",\n",
    "    facecolors=\"r\",\n",
    "    edgecolors=\"r\",\n",
    "    label=\"A test\",\n",
    ")\n",
    "\n",
    "# Class: B test\n",
    "plt.scatter(\n",
    "    test_features[:, 0][\n",
    "        test_labels == 1\n",
    "    ],  # x (index 0) coordinate of class B (label 1) in testing samples\n",
    "    test_features[:, 1][\n",
    "        test_labels == 1\n",
    "    ],  # y (index 1) coordinate of class B (label 1) in testing samples\n",
    "    marker=\"o\",\n",
    "    facecolors=\"b\",\n",
    "    edgecolors=\"b\",\n",
    "    label=\"B test\",\n",
    ")\n",
    "\n",
    "# Plot the classification\n",
    "plt.legend(bbox_to_anchor=(1.05, 1), loc=\"upper left\", borderaxespad=0.0)\n",
    "plt.title(\"Pegasos Classification\")\n",
    "plt.show()"
   ]
  },
  {
   "cell_type": "markdown",
   "id": "989a17a6",
   "metadata": {},
   "source": [
    "## What was learned\n",
    "We learned how to implement `PegasosQSVC` for binary classification problem using `FidelityQuantumKernel` on a `ZFeatureMap` quantum feature map, following classical machine learning procedure step by step."
   ]
  },
  {
   "cell_type": "code",
   "execution_count": 9,
   "id": "imperial-promise",
   "metadata": {},
   "outputs": [
    {
     "data": {
      "text/html": [
       "<h3>Version Information</h3><table><tr><th>Qiskit Software</th><th>Version</th></tr><tr><td><code>qiskit-terra</code></td><td>0.22.2</td></tr><tr><td><code>qiskit-aer</code></td><td>0.11.1</td></tr><tr><td><code>qiskit-ibmq-provider</code></td><td>0.19.2</td></tr><tr><td><code>qiskit</code></td><td>0.39.2</td></tr><tr><td><code>qiskit-machine-learning</code></td><td>0.5.0</td></tr><tr><th>System information</th></tr><tr><td>Python version</td><td>3.9.5</td></tr><tr><td>Python compiler</td><td>GCC 9.3.0</td></tr><tr><td>Python build</td><td>default, Nov 23 2021 15:27:38</td></tr><tr><td>OS</td><td>Linux</td></tr><tr><td>CPUs</td><td>2</td></tr><tr><td>Memory (Gb)</td><td>3.7498855590820312</td></tr><tr><td colspan='2'>Fri Nov 11 23:22:14 2022 IST</td></tr></table>"
      ],
      "text/plain": [
       "<IPython.core.display.HTML object>"
      ]
     },
     "metadata": {},
     "output_type": "display_data"
    },
    {
     "data": {
      "text/html": [
       "<div style='width: 100%; background-color:#d5d9e0;padding-left: 10px; padding-bottom: 10px; padding-right: 10px; padding-top: 5px'><h3>This code is a part of Qiskit</h3><p>&copy; Copyright IBM 2017, 2022.</p><p>This code is licensed under the Apache License, Version 2.0. You may<br>obtain a copy of this license in the LICENSE.txt file in the root directory<br> of this source tree or at http://www.apache.org/licenses/LICENSE-2.0.<p>Any modifications or derivative works of this code must retain this<br>copyright notice, and modified files need to carry a notice indicating<br>that they have been altered from the originals.</p></div>"
      ],
      "text/plain": [
       "<IPython.core.display.HTML object>"
      ]
     },
     "metadata": {},
     "output_type": "display_data"
    }
   ],
   "source": [
    "import qiskit.tools.jupyter\n",
    "\n",
    "%qiskit_version_table\n",
    "%qiskit_copyright"
   ]
  }
 ],
 "metadata": {
  "celltoolbar": "Tags",
  "kernelspec": {
   "display_name": "Python 3 (ipykernel)",
   "language": "python",
   "name": "python3"
  },
  "language_info": {
   "codemirror_mode": {
    "name": "ipython",
    "version": 3
   },
   "file_extension": ".py",
   "mimetype": "text/x-python",
   "name": "python",
   "nbconvert_exporter": "python",
   "pygments_lexer": "ipython3",
   "version": "3.9.5"
  }
 },
 "nbformat": 4,
 "nbformat_minor": 5
}
